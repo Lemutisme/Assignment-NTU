{
 "cells": [
  {
   "cell_type": "code",
   "execution_count": null,
   "id": "7d325625-e859-4730-8922-446ca1d55563",
   "metadata": {},
   "outputs": [],
   "source": [
    "import numpy as np\n",
    "import pandas as pd\n",
    "import matplotlib.pyplot as plt\n",
    "import seaborn as sns\n",
    "\n",
    "import torch\n",
    "import torch.nn as nn\n",
    "import torch.optim as optim\n",
    "from torch.utils.data import Dataset, DataLoader\n",
    "\n",
    "from sklearn.preprocessing import StandardScaler, LabelEncoder\n",
    "from sklearn.model_selection import train_test_split\n",
    "from sklearn.metrics import confusion_matrix, classification_report\n",
    "from sklearn.ensemble import RandomForestClassifier\n",
    "\n",
    "from math import sqrt"
   ]
  },
  {
   "cell_type": "code",
   "execution_count": null,
   "id": "7b99dd1f-37ef-472f-a1a4-c989c24c3bb6",
   "metadata": {},
   "outputs": [],
   "source": [
    "import os\n",
    "os.getcwd()"
   ]
  },
  {
   "cell_type": "code",
   "execution_count": null,
   "id": "4a52d7e6-9cb6-47f5-b597-0ac16c55671b",
   "metadata": {},
   "outputs": [],
   "source": [
    "df = pd.read_csv('/Users/clause/Desktop/ZD/St/germancredit.csv')\n",
    "df"
   ]
  },
  {
   "cell_type": "code",
   "execution_count": null,
   "id": "d5537cb5-dd1f-4a76-a39d-65fb1570a249",
   "metadata": {},
   "outputs": [],
   "source": [
    "sns.countplot(x = 'Default', data = df)"
   ]
  },
  {
   "cell_type": "code",
   "execution_count": null,
   "id": "5347045b-1484-4bb5-8d4f-d2770fc96e9e",
   "metadata": {},
   "outputs": [],
   "source": [
    "df.info()"
   ]
  },
  {
   "cell_type": "code",
   "execution_count": null,
   "id": "0568a69d-3aae-4425-b5da-64adf9fa68e5",
   "metadata": {},
   "outputs": [],
   "source": [
    "thelist = ['checkingstatus1', 'history', 'purpose', 'savings' ,'employ', 'status', 'others','property','otherplans','housing','job','tele','foreign']\n",
    "\n",
    "for i in thelist:\n",
    "    for j in df[i]:\n",
    "        print(j[-1])"
   ]
  },
  {
   "cell_type": "code",
   "execution_count": null,
   "id": "44c68755-aad8-489f-82ca-1abf16f8d96e",
   "metadata": {},
   "outputs": [],
   "source": [
    "df['checkingstatus1']"
   ]
  },
  {
   "cell_type": "code",
   "execution_count": null,
   "id": "ad688fe4-5201-4889-92eb-7b33a31be33e",
   "metadata": {},
   "outputs": [],
   "source": [
    "labelencoder_X = LabelEncoder()\n",
    "\n",
    "thelist = ['checkingstatus1', 'history', 'purpose', 'savings' ,'employ', 'status', 'others','property','otherplans','housing','job','tele','foreign']\n",
    "\n",
    "for i in thelist:\n",
    "    df[i] = labelencoder_X.fit_transform(df[i])"
   ]
  },
  {
   "cell_type": "code",
   "execution_count": null,
   "id": "a4967806-eef6-484d-b25a-8d3cc954bbfd",
   "metadata": {},
   "outputs": [],
   "source": [
    "X = df.iloc[:, 1:]\n",
    "y = df.iloc[:, 0]\n",
    "\n",
    "#y = df[\"y\"].map({\"no\":0, \"yes\":1})\n",
    "#X = df.drop(\"y\", axis=1)\n",
    "#X.drop(\"duration\", inplace=True, axis=1)\n",
    "#X.drop(\"contact\", inplace=True, axis=1)"
   ]
  },
  {
   "cell_type": "code",
   "execution_count": null,
   "id": "369a8642-260f-43e7-9f89-7dfbad06349b",
   "metadata": {},
   "outputs": [],
   "source": [
    "X = X.fillna(0)"
   ]
  },
  {
   "cell_type": "code",
   "execution_count": null,
   "id": "86dd29dd-e7ce-4797-9cb3-19b02915a88d",
   "metadata": {},
   "outputs": [],
   "source": [
    "X.describe().transpose()"
   ]
  },
  {
   "cell_type": "code",
   "execution_count": null,
   "id": "fd27647f-37ad-4aea-a011-19dcc6f27418",
   "metadata": {},
   "outputs": [],
   "source": [
    "df_corr = X.corr()\n",
    "sns.set(font_scale=0.8)\n",
    "plt.figure(figsize=(24,16))\n",
    "sns.heatmap(df_corr, annot=True, fmt=\".4f\",vmin=-1, vmax=1, linewidths=.5, cmap = sns.color_palette(\"coolwarm\", 200))\n",
    "\n",
    "plt.figtext(.45, 0.9,'correlation matrix of train_1', fontsize=16, ha='center')\n",
    "plt.xticks(rotation=90)\n",
    "plt.show()"
   ]
  },
  {
   "cell_type": "code",
   "execution_count": null,
   "id": "a5176d91-8fb5-4b1a-955a-5b2f084119e8",
   "metadata": {},
   "outputs": [],
   "source": [
    "X_imp = X\n",
    "y_imp = y\n",
    "\n",
    "rf_clf = RandomForestClassifier(n_estimators = 500, max_depth=5)\n",
    "rf_clf.fit(X_imp, y_imp)\n",
    "\n",
    "pd.Series(rf_clf.feature_importances_, index = X_imp.columns).nlargest(30).plot(kind = 'pie',\n",
    "                                                                                figsize = (8, 8),\n",
    "                                                                                title = 'Feature importance from RandomForest for train set', colormap='twilight', fontsize=10)"
   ]
  },
  {
   "cell_type": "code",
   "execution_count": null,
   "id": "9beac882-07ff-424d-a691-e3991578dbad",
   "metadata": {},
   "outputs": [],
   "source": [
    "deleted=[\"foreign\", \"liable\", \"tele\", \"cards\", 'others']\n",
    "\n",
    "X.drop(columns = deleted, inplace=True)"
   ]
  },
  {
   "cell_type": "code",
   "execution_count": null,
   "id": "d72d3e52-8fab-49a4-b6b9-294a350f9c30",
   "metadata": {},
   "outputs": [],
   "source": [
    "X_train, X_test, y_train, y_test = train_test_split(X, y, test_size = 0.3)"
   ]
  },
  {
   "cell_type": "code",
   "execution_count": null,
   "id": "544914f1-fcac-4d36-886d-84aec6e26dfb",
   "metadata": {},
   "outputs": [],
   "source": [
    "X_train"
   ]
  },
  {
   "cell_type": "code",
   "execution_count": null,
   "id": "71838291-ea66-461c-bded-da1d8e3377e0",
   "metadata": {},
   "outputs": [],
   "source": [
    "from imblearn.over_sampling import SMOTE\n",
    "oversampler = SMOTE(sampling_strategy='auto', k_neighbors=5, n_jobs=-1)\n",
    "X_train, y_train = oversampler.fit_resample(X_train,y_train)"
   ]
  },
  {
   "cell_type": "code",
   "execution_count": null,
   "id": "e25d4326-e9d2-4e68-b53e-caae162b9c4a",
   "metadata": {},
   "outputs": [],
   "source": [
    "X_train"
   ]
  },
  {
   "cell_type": "code",
   "execution_count": null,
   "id": "d03a42da-719f-4d2f-8ca3-9bf15a0250c1",
   "metadata": {},
   "outputs": [],
   "source": [
    "scaler = StandardScaler()\n",
    "X_train = scaler.fit_transform(X_train)\n",
    "X_test = scaler.transform(X_test)"
   ]
  },
  {
   "cell_type": "code",
   "execution_count": null,
   "id": "f8039776-e357-489c-afd7-10032e89f5ce",
   "metadata": {},
   "outputs": [],
   "source": [
    "EPOCHS = 50\n",
    "BATCH_SIZE = 64\n",
    "LEARNING_RATE = 0.001"
   ]
  },
  {
   "cell_type": "code",
   "execution_count": null,
   "id": "5faa5ff6-deea-451b-9ce2-f8b157df675d",
   "metadata": {},
   "outputs": [],
   "source": [
    "class trainData(Dataset):\n",
    "    \n",
    "    def __init__(self, X_data, y_data):\n",
    "        self.X_data = X_data\n",
    "        self.y_data = y_data\n",
    "        \n",
    "    def __getitem__(self, index):\n",
    "        return self.X_data[index], self.y_data[index]\n",
    "    \n",
    "    def __len__(self):\n",
    "        return len(self.X_data)\n",
    "    \n",
    "train_data = trainData(torch.FloatTensor(X_train),\n",
    "                       torch.FloatTensor(y_train))\n",
    "\n",
    "class testData(Dataset):\n",
    "    \n",
    "    def __init__(self, X_data):\n",
    "        self.X_data = X_data\n",
    "        \n",
    "    def __getitem__(self, index):\n",
    "        return self.X_data[index]\n",
    "    \n",
    "    def __len__(self):\n",
    "        return len(self.X_data)\n",
    "       \n",
    "test_data = testData(torch.FloatTensor(X_test))"
   ]
  },
  {
   "cell_type": "code",
   "execution_count": null,
   "id": "6d7495c3-c4cc-4fa5-84fb-0e34d671ab9f",
   "metadata": {},
   "outputs": [],
   "source": [
    "train_loader = DataLoader(dataset = train_data, batch_size = BATCH_SIZE, shuffle = True)\n",
    "test_loader = DataLoader(dataset = test_data, batch_size = 1)"
   ]
  },
  {
   "cell_type": "code",
   "execution_count": null,
   "id": "4dcd5a49-34d1-464d-a107-0a9be0e08df0",
   "metadata": {},
   "outputs": [],
   "source": [
    "class MLP(nn.Module):\n",
    "    def __init__(self):\n",
    "        super(MLP, self).__init__()\n",
    "        \n",
    "        self.layer_1 = nn.Linear(15, 64)\n",
    "        self.layer_2 = nn.Linear(64, 64)\n",
    "        #self.layer_3 = nn.Linear(64, 64)\n",
    "        self.layer_out = nn.Linear(64, 1)\n",
    "        \n",
    "        self.relu = nn.ReLU()\n",
    "        self.dropout = nn.Dropout(p = 0.1)\n",
    "        self.batchnorm1 = nn.BatchNorm1d(64)\n",
    "        self.batchnorm2 = nn.BatchNorm1d(64)\n",
    "        #self.batchnorm3 = nn.BatchNorm1d(64)\n",
    "        \n",
    "    def forward(self, inputs):\n",
    "        x = self.relu(self.layer_1(inputs))\n",
    "        x = self.batchnorm1(x)\n",
    "        x = self.relu(self.layer_2(x))\n",
    "        x = self.batchnorm2(x)\n",
    "        #x = self.relu(self.layer_3(x))\n",
    "        #x = self.batchnorm3(x)\n",
    "        x = self.dropout(x)\n",
    "        x = self.layer_out(x)\n",
    "        \n",
    "        return x"
   ]
  },
  {
   "cell_type": "code",
   "execution_count": null,
   "id": "ae388a9a-8584-45a8-9da2-85df432232eb",
   "metadata": {},
   "outputs": [],
   "source": [
    "device = torch.device('cuda:0' if torch.cuda.is_available() else 'cpu')\n",
    "\n",
    "print(device)"
   ]
  },
  {
   "cell_type": "code",
   "execution_count": null,
   "id": "28d17cb2-ce5c-4f45-8a67-956c8be2ecc9",
   "metadata": {},
   "outputs": [],
   "source": [
    "model = MLP()\n",
    "model.to(device)\n",
    "criterion = nn.BCEWithLogitsLoss()\n",
    "optimizer = optim.Adam(model.parameters(), lr = LEARNING_RATE, weight_decay= 1)\n",
    "\n",
    "print(model)"
   ]
  },
  {
   "cell_type": "code",
   "execution_count": null,
   "id": "a66129a5-9e83-4ffd-83cc-e3fad44de67d",
   "metadata": {},
   "outputs": [],
   "source": [
    "\n",
    "def MLP_acc(y_pred, y_test):\n",
    "    y_pred_tag = torch.round(torch.sigmoid(y_pred))\n",
    "    \n",
    "    correct_results_sum = (y_pred_tag == y_test).sum().float()\n",
    "    acc = correct_results_sum/y_test.shape[0]\n",
    "    acc = torch.round(acc * 100)\n",
    "    \n",
    "    return acc\n",
    "    \n"
   ]
  },
  {
   "cell_type": "code",
   "execution_count": null,
   "id": "0dc40e2e-b2e6-4d9f-957a-c6f35337f55a",
   "metadata": {},
   "outputs": [],
   "source": [
    "def MLP_mcc(y_pred, y_test):\n",
    "    y_pred_tag = torch.round(torch.sigmoid(y_pred))\n",
    "    cm = confusion_matrix(y_test.detach().numpy(), y_pred_tag.detach().numpy())\n",
    "    acc = (cm[0,0]+cm[1,1])/(cm[0,0]+cm[0,1]+cm[1,0]+cm[1,1])\n",
    "    if sqrt((cm[0,0]+cm[0,1])*(cm[0,0]+cm[1,0])*(cm[1,1]+cm[0,1])*(cm[1,1]+cm[1,0])) == 0:\n",
    "        mcc = 0\n",
    "    else:\n",
    "        mcc = (cm[0,0]*cm[1,1]-cm[0,1]*cm[1,0])/sqrt((cm[0,0]+cm[0,1])*(cm[0,0]+cm[1,0])*(cm[1,1]+cm[0,1])*(cm[1,1]+cm[1,0]))\n",
    "    \n",
    "    return acc, mcc"
   ]
  },
  {
   "cell_type": "code",
   "execution_count": null,
   "id": "5d7bdaf4-3460-4f0e-8a3a-a8437be923f8",
   "metadata": {},
   "outputs": [],
   "source": [
    "model.train()\n",
    "for e in range(1, EPOCHS + 1):\n",
    "    epoch_loss = 0\n",
    "    epoch_acc = 0\n",
    "    epoch_mcc = 0\n",
    "    for X_batch, y_batch in train_loader:\n",
    "        X_batch, y_batch = X_batch.to(device), y_batch.to(device)\n",
    "        optimizer.zero_grad()\n",
    "        \n",
    "        y_pred = model(X_batch)\n",
    "        \n",
    "        loss = criterion(y_pred, y_batch.unsqueeze(1))\n",
    "        acc = MLP_acc(y_pred, y_batch.unsqueeze(1))\n",
    "        #acc, mcc = MLP_mcc(y_pred, y_batch.unsqueeze(1))\n",
    "        \n",
    "        loss.backward()\n",
    "        optimizer.step()\n",
    "        \n",
    "        epoch_loss += loss.item()\n",
    "        epoch_acc += acc\n",
    "        #epoch_mcc += mcc\n",
    "        \n",
    "    print(f'Epoch {e+0:03}: | Loss:{epoch_loss/len(train_loader):.5f} | Acc:{epoch_acc/len(train_loader): .3f}')\n",
    "    #print(f'Epoch {e+0:03}: | Loss:{epoch_loss/len(train_loader):.5f} | Acc:{epoch_acc/len(train_loader): .3f} Mcc:{epoch_mcc/len(train_loader): .3f}')"
   ]
  },
  {
   "cell_type": "code",
   "execution_count": null,
   "id": "587bb9db-7324-4ae5-aee0-f36b89ede2c8",
   "metadata": {},
   "outputs": [],
   "source": [
    "def pred(x, test_loader):\n",
    "    y_pred_list = []\n",
    "    model.eval()\n",
    "    with torch.no_grad():\n",
    "        for X_batch in test_loader:\n",
    "            X_batch = X_batch.to(device)\n",
    "            y_test_pred= model(X_batch)\n",
    "            y_test_pred= torch.sigmoid(y_test_pred)\n",
    "            y_pred_tag = torch.round(y_test_pred)\n",
    "            y_pred_list.append(y_pred_tag.cpu().numpy())\n",
    "        \n",
    "    y_pred_list = [a.squeeze().tolist() for a in y_pred_list]\n",
    "    cm = confusion_matrix(x, y_pred_list)\n",
    "    acc = (cm[0,0]+cm[1,1])/(cm[0,0]+cm[0,1]+cm[1,0]+cm[1,1])\n",
    "    mcc = (cm[0,0]*cm[1,1]-cm[0,1]*cm[1,0])/sqrt((cm[0,0]+cm[0,1])*(cm[0,0]+cm[1,0])*(cm[1,1]+cm[0,1])*(cm[1,1]+cm[1,0]))\n",
    "    \n",
    "    print('Confusion Matrix:')\n",
    "    print(cm)\n",
    "    print(f' Accurency:{acc}, MCC:{mcc}')"
   ]
  },
  {
   "cell_type": "code",
   "execution_count": null,
   "id": "ca47f802-b708-4675-9d86-b961b2d6172b",
   "metadata": {},
   "outputs": [],
   "source": [
    "pred(y_test, test_loader)"
   ]
  },
  {
   "cell_type": "code",
   "execution_count": null,
   "id": "f9b5bfc4-3cb3-42bf-ac4a-5c9b43af3684",
   "metadata": {},
   "outputs": [],
   "source": []
  }
 ],
 "metadata": {
  "kernelspec": {
   "display_name": "Python 3.8.10 64-bit ('ML': conda)",
   "language": "python",
   "name": "python3810jvsc74a57bd0cff35c45cbab256606d2534f23a0be68c988e5f69921b5c9facd83c319944f6f"
  },
  "language_info": {
   "codemirror_mode": {
    "name": "ipython",
    "version": 3
   },
   "file_extension": ".py",
   "mimetype": "text/x-python",
   "name": "python",
   "nbconvert_exporter": "python",
   "pygments_lexer": "ipython3",
   "version": "3.8.10"
  }
 },
 "nbformat": 4,
 "nbformat_minor": 5
}
