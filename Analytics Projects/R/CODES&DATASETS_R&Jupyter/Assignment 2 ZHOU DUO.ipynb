{
 "cells": [
  {
   "cell_type": "markdown",
   "id": "6b87b665",
   "metadata": {},
   "source": [
    "__keras in concrete dataset__\n",
    "\n",
    "__ZHOU DUO, G2103160J__\n",
    "\n",
    "__SPMS, NTU__\n",
    "\n",
    "Hi, Prof. Li, I sincerely recommend that you use Rstudio to run the code"
   ]
  },
  {
   "cell_type": "markdown",
   "id": "27faaa60",
   "metadata": {},
   "source": [
    "# The purpose of Assignment 2\n",
    "\n",
    "## Trace back to Assignment 1\n",
    "* The assignment 1 is about regression problem, we aim to predict the output of a continuous value， where aim to predict a discrete label. So, using keras to regrese the concrete dataset might be get a better performance than neuralnet. \n",
    "\n",
    "## Tidy-r\n",
    "* In addition, keras is depend on tidy-r, which terms of syntax is like python, but more beautiful.\n",
    "\n",
    "\n",
    "* The learning cost of a research tool depends to a large extent on the readability and consistency of the API. The characteristic of base-r is that there are many packages but the API is chaotic and inconsistent, because the functions of each package cannot be partially comprehensive. \n",
    "\n",
    "\n",
    "* The emergence of tidyverse brought R, who was overtaken by Python, back to life. The main function packages are centralized, the API is not only unified, but also surpasses Python in terms of syntax beauty. In particular, the integration of graphical grammar and SQL pipeline flow has made it a benchmark in the industry.\n",
    "\n",
    "## Therefore, the purpose of this article is:\n",
    "\n",
    "1. Explore the regression analysis of keras;\n",
    "\n",
    "2. Feel the beauty of tidy-r's syntax."
   ]
  },
  {
   "cell_type": "markdown",
   "id": "c521e147",
   "metadata": {},
   "source": [
    "# Regression by keras\n",
    "\n",
    "## Load data & set train/test"
   ]
  },
  {
   "cell_type": "code",
   "execution_count": 4,
   "id": "ad6796ed",
   "metadata": {},
   "outputs": [],
   "source": [
    "requiredPackages <- c('keras','dplyr','ggplot2','tfdatasets')\n",
    "if (length(setdiff(requiredPackages, rownames(installed.packages()))) > 0) {\n",
    "  install.packages(setdiff(requiredPackages, rownames(installed.packages())))  \n",
    "}\n",
    "library(keras)\n",
    "library(dplyr)\n",
    "library(ggplot2)\n",
    "library(tfdatasets)"
   ]
  },
  {
   "cell_type": "code",
   "execution_count": 5,
   "id": "cbd28584",
   "metadata": {},
   "outputs": [
    {
     "data": {
      "text/html": [
       "'Training entries: 8, labels: 773'"
      ],
      "text/latex": [
       "'Training entries: 8, labels: 773'"
      ],
      "text/markdown": [
       "'Training entries: 8, labels: 773'"
      ],
      "text/plain": [
       "[1] \"Training entries: 8, labels: 773\""
      ]
     },
     "metadata": {},
     "output_type": "display_data"
    },
    {
     "data": {
      "text/html": [
       "<table>\n",
       "<thead><tr><th scope=col>cement</th><th scope=col>slag</th><th scope=col>ash</th><th scope=col>water</th><th scope=col>superplastic</th><th scope=col>coarseagg</th><th scope=col>fineagg</th><th scope=col>age</th></tr></thead>\n",
       "<tbody>\n",
       "\t<tr><td>540 </td><td>0   </td><td>0   </td><td>162 </td><td>2.5 </td><td>1040</td><td>676 </td><td>28  </td></tr>\n",
       "</tbody>\n",
       "</table>\n"
      ],
      "text/latex": [
       "\\begin{tabular}{r|llllllll}\n",
       " cement & slag & ash & water & superplastic & coarseagg & fineagg & age\\\\\n",
       "\\hline\n",
       "\t 540  & 0    & 0    & 162  & 2.5  & 1040 & 676  & 28  \\\\\n",
       "\\end{tabular}\n"
      ],
      "text/markdown": [
       "\n",
       "| cement | slag | ash | water | superplastic | coarseagg | fineagg | age |\n",
       "|---|---|---|---|---|---|---|---|\n",
       "| 540  | 0    | 0    | 162  | 2.5  | 1040 | 676  | 28   |\n",
       "\n"
      ],
      "text/plain": [
       "  cement slag ash water superplastic coarseagg fineagg age\n",
       "1 540    0    0   162   2.5          1040      676     28 "
      ]
     },
     "metadata": {},
     "output_type": "display_data"
    }
   ],
   "source": [
    "# read dataset & set train & test\n",
    "concrete <- read.csv(\"Concrete.csv\")\n",
    "concrete_train <- concrete[1:773, ]\n",
    "concrete_test <- concrete[774:1030, ]\n",
    "\n",
    "train_data <- concrete_train[,-9]\n",
    "train_labels <- concrete_train[,9]\n",
    "test_data <- concrete_test[,-9]\n",
    "test_labels <- concrete_test[,9]\n",
    "\n",
    "paste0(\"Training entries: \", length(train_data), \", labels: \", length(train_labels))\n",
    "train_data[1, ]"
   ]
  },
  {
   "cell_type": "markdown",
   "id": "c57f3128",
   "metadata": {},
   "source": [
    "## Normalize features\n",
    "\n",
    "It’s recommended to normalize features that use different scales and ranges. Although the model might converge without feature normalization, it makes training more difficult, and it makes the resulting model more dependent on the choice of units used in the input.\n",
    "\n",
    "We are going to use the feature_spec interface implemented in the tfdatasets package for normalization. The feature_columns interface allows for other common pre-processing operations on tabular data."
   ]
  },
  {
   "cell_type": "code",
   "execution_count": 6,
   "id": "3ce22131",
   "metadata": {},
   "outputs": [
    {
     "data": {
      "text/plain": [
       "-- Feature Spec ---------------------------------------------------------------- \n",
       "\u001b[1mA feature_spec with 8 steps.\n",
       "\u001b[22m\u001b[1mFitted:\u001b[22m TRUE \n",
       "-- Steps ----------------------------------------------------------------------- \n",
       "The feature_spec has 1 dense features.\n",
       "\u001b[1mStepNumericColumn\u001b[22m: cement, slag, ash, water, superplastic, coarseagg, fineagg, age \n",
       "-- Dense features -------------------------------------------------------------- "
      ]
     },
     "metadata": {},
     "output_type": "display_data"
    }
   ],
   "source": [
    "# normalization\n",
    "train_df <- train_data %>% \n",
    "  as_tibble(.name_repair = \"minimal\") %>% \n",
    "  mutate(label = train_labels)\n",
    "\n",
    "test_df <- test_data %>% \n",
    "  as_tibble(.name_repair = \"minimal\") %>% \n",
    "  mutate(label = test_labels)\n",
    "spec <- tfdatasets::feature_spec(train_df, label ~ . ) %>% \n",
    "  tfdatasets::step_numeric_column(all_numeric(), normalizer_fn = scaler_standard()) %>% \n",
    "  fit()\n",
    "spec"
   ]
  },
  {
   "cell_type": "markdown",
   "id": "787a86aa",
   "metadata": {},
   "source": [
    "The spec created with tfdatasets can be used together with layer_dense_features to perform pre-processing directly in the TensorFlow graph.\n",
    "\n",
    "We can take a look at the output of a dense-features layer created by this spec:"
   ]
  },
  {
   "cell_type": "code",
   "execution_count": 7,
   "id": "4add19aa",
   "metadata": {},
   "outputs": [
    {
     "ename": "ERROR",
     "evalue": "Error in py_call_impl(callable, dots$args, dots$keywords): ValueError: ('We expected a dictionary here. Instead we got: ',      cement   slag  ash  water  superplastic  coarseagg  fineagg  age  label\n0     540.0    0.0  0.0  162.0           2.5     1040.0    676.0   28  79.99\n1     540.0    0.0  0.0  162.0           2.5     1055.0    676.0   28  61.89\n2     332.5  142.5  0.0  228.0           0.0      932.0    594.0  270  40.27\n3     332.5  142.5  0.0  228.0           0.0      932.0    594.0  365  41.05\n4     198.6  132.4  0.0  192.0           0.0      978.4    825.5  360  44.30\n..      ...    ...  ...    ...           ...        ...      ...  ...    ...\n768   331.0    0.0  0.0  192.0           0.0      978.0    825.0  180  39.00\n769   331.0    0.0  0.0  192.0           0.0      978.0    825.0  360  41.24\n770   349.0    0.0  0.0  192.0           0.0     1047.0    806.0    3  14.99\n771   331.0    0.0  0.0  192.0           0.0      978.0    825.0    3  13.52\n772   382.0    0.0  0.0  186.0           0.0     1047.0    739.0    7  24.00\n\n[773 rows x 9 columns])\n\nDetailed traceback:\n  File \"C:\\Users\\Clause\\AppData\\Local\\R-MINI~1\\envs\\R-RETI~1\\lib\\site-packages\\keras\\engine\\base_layer.py\", line 1037, in __call__\n    outputs = call_fn(inputs, *args, **kwargs)\n  File \"C:\\Users\\Clause\\AppData\\Local\\R-MINI~1\\envs\\R-RETI~1\\lib\\site-packages\\keras\\feature_column\\dense_features.py\", line 159, in call\n    features)\n\n",
     "output_type": "error",
     "traceback": [
      "Error in py_call_impl(callable, dots$args, dots$keywords): ValueError: ('We expected a dictionary here. Instead we got: ',      cement   slag  ash  water  superplastic  coarseagg  fineagg  age  label\n0     540.0    0.0  0.0  162.0           2.5     1040.0    676.0   28  79.99\n1     540.0    0.0  0.0  162.0           2.5     1055.0    676.0   28  61.89\n2     332.5  142.5  0.0  228.0           0.0      932.0    594.0  270  40.27\n3     332.5  142.5  0.0  228.0           0.0      932.0    594.0  365  41.05\n4     198.6  132.4  0.0  192.0           0.0      978.4    825.5  360  44.30\n..      ...    ...  ...    ...           ...        ...      ...  ...    ...\n768   331.0    0.0  0.0  192.0           0.0      978.0    825.0  180  39.00\n769   331.0    0.0  0.0  192.0           0.0      978.0    825.0  360  41.24\n770   349.0    0.0  0.0  192.0           0.0     1047.0    806.0    3  14.99\n771   331.0    0.0  0.0  192.0           0.0      978.0    825.0    3  13.52\n772   382.0    0.0  0.0  186.0           0.0     1047.0    739.0    7  24.00\n\n[773 rows x 9 columns])\n\nDetailed traceback:\n  File \"C:\\Users\\Clause\\AppData\\Local\\R-MINI~1\\envs\\R-RETI~1\\lib\\site-packages\\keras\\engine\\base_layer.py\", line 1037, in __call__\n    outputs = call_fn(inputs, *args, **kwargs)\n  File \"C:\\Users\\Clause\\AppData\\Local\\R-MINI~1\\envs\\R-RETI~1\\lib\\site-packages\\keras\\feature_column\\dense_features.py\", line 159, in call\n    features)\n\nTraceback:\n",
      "1. layer(train_df)",
      "2. py_call_impl(callable, dots$args, dots$keywords)"
     ]
    }
   ],
   "source": [
    "layer <- layer_dense_features(\n",
    "  feature_columns = dense_features(spec), \n",
    "  dtype = tf$float32\n",
    ")\n",
    "layer(train_df)"
   ]
  },
  {
   "cell_type": "markdown",
   "id": "eb531738",
   "metadata": {},
   "source": [
    "## Create the model\n",
    "\n",
    "Let’s build our model. Here we will use the Keras functional API - which is the recommended way when using the feature_spec API. Note that we only need to pass the dense_features from the spec we just created. Then, we cpmpute the model"
   ]
  },
  {
   "cell_type": "code",
   "execution_count": 8,
   "id": "78293888",
   "metadata": {},
   "outputs": [
    {
     "name": "stdout",
     "output_type": "stream",
     "text": [
      "Model: \"model\"\n",
      "________________________________________________________________________________\n",
      "Layer (type)              Output Shape      Param #  Connected to               \n",
      "================================================================================\n",
      "age (InputLayer)          [(None,)]         0                                   \n",
      "________________________________________________________________________________\n",
      "ash (InputLayer)          [(None,)]         0                                   \n",
      "________________________________________________________________________________\n",
      "cement (InputLayer)       [(None,)]         0                                   \n",
      "________________________________________________________________________________\n",
      "coarseagg (InputLayer)    [(None,)]         0                                   \n",
      "________________________________________________________________________________\n",
      "fineagg (InputLayer)      [(None,)]         0                                   \n",
      "________________________________________________________________________________\n",
      "slag (InputLayer)         [(None,)]         0                                   \n",
      "________________________________________________________________________________\n",
      "superplastic (InputLayer) [(None,)]         0                                   \n",
      "________________________________________________________________________________\n",
      "water (InputLayer)        [(None,)]         0                                   \n",
      "________________________________________________________________________________\n",
      "dense_features_2 (DenseFe (None, 8)         0        age[0][0]                  \n",
      "                                                     ash[0][0]                  \n",
      "                                                     cement[0][0]               \n",
      "                                                     coarseagg[0][0]            \n",
      "                                                     fineagg[0][0]              \n",
      "                                                     slag[0][0]                 \n",
      "                                                     superplastic[0][0]         \n",
      "                                                     water[0][0]                \n",
      "________________________________________________________________________________\n",
      "dense_2 (Dense)           (None, 64)        576      dense_features_2[0][0]     \n",
      "________________________________________________________________________________\n",
      "dense_1 (Dense)           (None, 64)        4160     dense_2[0][0]              \n",
      "________________________________________________________________________________\n",
      "dense (Dense)             (None, 1)         65       dense_1[0][0]              \n",
      "================================================================================\n",
      "Total params: 4,801\n",
      "Trainable params: 4,801\n",
      "Non-trainable params: 0\n",
      "________________________________________________________________________________\n"
     ]
    }
   ],
   "source": [
    "# model\n",
    "input <- layer_input_from_dataset(train_df %>% select(-label))\n",
    "output <- input %>% \n",
    "  layer_dense_features(dense_features(spec)) %>% \n",
    "  layer_dense(units = 64, activation = \"relu\") %>%\n",
    "  layer_dense(units = 64, activation = \"relu\") %>%\n",
    "  layer_dense(units = 1) \n",
    "model <- keras_model(input, output)\n",
    "summary(model)"
   ]
  },
  {
   "cell_type": "code",
   "execution_count": 9,
   "id": "299d4111",
   "metadata": {},
   "outputs": [],
   "source": [
    "# compute\n",
    "model %>% \n",
    "  compile(\n",
    "    loss = \"mse\",\n",
    "    optimizer = optimizer_rmsprop(),\n",
    "    metrics = list(\"mean_absolute_error\")\n",
    "  )"
   ]
  },
  {
   "cell_type": "markdown",
   "id": "8e874a09",
   "metadata": {},
   "source": [
    "## Train the model\n",
    "\n",
    "The model is trained for 500 epochs, recording training and validation accuracy in a keras_training_history object. We also show how to use a custom callback, replacing the default training output by a single dot per epoch."
   ]
  },
  {
   "cell_type": "code",
   "execution_count": 10,
   "id": "fa927ff1",
   "metadata": {},
   "outputs": [
    {
     "name": "stdout",
     "output_type": "stream",
     "text": [
      "\n",
      "................................................................................\n",
      "................................................................................\n",
      "................................................................................\n",
      "................................................................................\n",
      "................................................................................\n",
      "................................................................................\n",
      "...................."
     ]
    }
   ],
   "source": [
    "# Display training progress by printing a single dot for each completed epoch.\n",
    "print_dot_callback <- callback_lambda(\n",
    "  on_epoch_end = function(epoch, logs) {\n",
    "    if (epoch %% 80 == 0) cat(\"\\n\")\n",
    "    cat(\".\")\n",
    "  }\n",
    ")    \n",
    "\n",
    "history <- model %>% fit(\n",
    "  x = train_df %>% select(-label),\n",
    "  y = train_df$label,\n",
    "  epochs = 500,\n",
    "  validation_split = 0.2,\n",
    "  verbose = 0,\n",
    "  callbacks = list(print_dot_callback)\n",
    ")"
   ]
  },
  {
   "cell_type": "markdown",
   "id": "89bd932e",
   "metadata": {},
   "source": [
    "show the tarin process"
   ]
  },
  {
   "cell_type": "code",
   "execution_count": 11,
   "id": "4b0da0f0",
   "metadata": {},
   "outputs": [
    {
     "data": {
      "image/png": "[encoded data removed]",
      "text/plain": [
       "plot without title"
      ]
     },
     "metadata": {},
     "output_type": "display_data"
    }
   ],
   "source": [
    "plot(history)"
   ]
  },
  {
   "cell_type": "markdown",
   "id": "50388d72",
   "metadata": {},
   "source": [
    "## Prediction "
   ]
  },
  {
   "cell_type": "code",
   "execution_count": 12,
   "id": "feaef26c",
   "metadata": {},
   "outputs": [
    {
     "data": {
      "text/html": [
       "<dl class=dl-horizontal>\n",
       "\t<dt>loss</dt>\n",
       "\t\t<dd>128.79020690918</dd>\n",
       "\t<dt>mean_absolute_error</dt>\n",
       "\t\t<dd>8.61625003814697</dd>\n",
       "</dl>\n"
      ],
      "text/latex": [
       "\\begin{description*}\n",
       "\\item[loss] 128.79020690918\n",
       "\\item[mean\\textbackslash{}\\_absolute\\textbackslash{}\\_error] 8.61625003814697\n",
       "\\end{description*}\n"
      ],
      "text/markdown": [
       "loss\n",
       ":   128.79020690918mean_absolute_error\n",
       ":   8.61625003814697\n",
       "\n"
      ],
      "text/plain": [
       "               loss mean_absolute_error \n",
       "          128.79021             8.61625 "
      ]
     },
     "metadata": {},
     "output_type": "display_data"
    }
   ],
   "source": [
    "scores <- model %>% \n",
    "  evaluate(test_df, test_df$label, verbose = 0)\n",
    "scores"
   ]
  },
  {
   "cell_type": "markdown",
   "id": "7e558f74",
   "metadata": {},
   "source": [
    "## Conclusion\n",
    "\n",
    "1. This assignment introduced a few techniques to handle a regression problem and the beauty of syntex in tidy-r.\n",
    "2. Mean Squared Error (MSE) is a common loss function used for regression problems (different than classification problems).\n",
    "3. Similarly, evaluation metrics used for regression differ from classification. A common regression metric is Mean Absolute Error (MAE).\n",
    "4. When input data features have values with different ranges, each feature should be scaled independently.\n",
    "5. If there is not much training data, prefer a small network with few hidden layers to avoid overfitting."
   ]
  }
 ],
 "metadata": {
  "kernelspec": {
   "display_name": "R",
   "language": "R",
   "name": "ir"
  },
  "language_info": {
   "codemirror_mode": "r",
   "file_extension": ".r",
   "mimetype": "text/x-r-source",
   "name": "R",
   "pygments_lexer": "r",
   "version": "4.0.2"
  }
 },
 "nbformat": 4,
 "nbformat_minor": 5
}
