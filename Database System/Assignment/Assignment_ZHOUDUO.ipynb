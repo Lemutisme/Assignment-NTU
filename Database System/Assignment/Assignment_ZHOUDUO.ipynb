{
 "cells": [
  {
   "cell_type": "markdown",
   "id": "118fe7e7-5dc1-49e0-baaf-cd936ce38e0e",
   "metadata": {},
   "source": [
    "__Assignment__\n",
    "\n",
    "__ZHOU DUO__\n",
    "\n",
    "__G2103160J__\n",
    "\n",
    "A national football association needs to design a database to store information about:\n",
    "\n",
    "1. All the players (identified by pid, with DOB, position and salary as attributes) registered under it;\n",
    "2. All the football clubs (identified by name, with city and asset as attributes) in the nation, \n",
    "3. All the stakeholders of each club (with name, age and percentage of holdings). \n",
    "\n",
    "Each player plays for one club, and each club has a captain player. Each stakeholder can only hold the shares of one club, and can be identified by name, given that his club is known. \n",
    "\n",
    "Tasks:\n",
    "\n",
    "1.\tDraw an ER diagram that captures this information.\n",
    "2.\tWrite SQL statements to create the corresponding relations and capture as many of the constraints as possible.\n",
    "\n",
    "For any additional and reasonable assumptions made, please state clearly."
   ]
  },
  {
   "cell_type": "code",
   "execution_count": 2,
   "id": "aeb4bd8f-a0a1-4054-aefd-daa93038697c",
   "metadata": {},
   "outputs": [
    {
     "data": {
      "text/plain": [
       "'/Users/clause/Documents/1. Database System'"
      ]
     },
     "execution_count": 2,
     "metadata": {},
     "output_type": "execute_result"
    }
   ],
   "source": [
    "import os\n",
    "os.getcwd()"
   ]
  },
  {
   "cell_type": "markdown",
   "id": "1ab5e2c1-d70d-474c-bb9c-87b2496d0cc5",
   "metadata": {},
   "source": [
    "# Draw an ER diagram that captures this information.\n",
    "\n",
    "<img src=\"ER.png\" alt=\"ERD.pdf\">"
   ]
  },
  {
   "cell_type": "markdown",
   "id": "76628548-5cc4-4cc3-8b4f-bdb6435f1e75",
   "metadata": {},
   "source": [
    "# Write SQL statements to create the corresponding relations and capture as many of the constraints as possible.\n",
    "\n",
    "```MySQL\n",
    "CREATE TABLE player(\n",
    "    pid CHAR(5),\n",
    "    name VARCHAR(20),\n",
    "    DoB DATE(),\n",
    "    position VARCHAR(20),\n",
    "    salary NUMERIC(20),\n",
    "    PRIMARY KEY(pid),\n",
    "    FOREIGN KEY(name) REFERENCES club(name)\n",
    ")\n",
    "```\n",
    "\n",
    "```MySQL\n",
    "CREATE TABLE club(\n",
    "    name VARCHAR(20),\n",
    "    city VARCHAR(20),\n",
    "    assets NUMERIC(20),\n",
    "    captain CHAR(5),\n",
    "    PRIMARY KEY(name),\n",
    "    FOREIGN KEY(captain) REFERENCES player(pid)\n",
    ")\n",
    "```\n",
    "\n",
    "```MySQL\n",
    "CREATE TABLE stakeholder(\n",
    "    name VARCHAR(20),\n",
    "    club VARCHAR(20),\n",
    "    age INTEGER,\n",
    "    percentage FLOAT,\n",
    "    PRIMARY KEY(name,club),\n",
    "    FOREIGN KEY(club) REFERENCES club(name)\n",
    ")\n",
    "```"
   ]
  }
 ],
 "metadata": {
  "kernelspec": {
   "display_name": "Python 3.8.10 64-bit ('ML': conda)",
   "language": "python",
   "name": "python3810jvsc74a57bd0cff35c45cbab256606d2534f23a0be68c988e5f69921b5c9facd83c319944f6f"
  },
  "language_info": {
   "codemirror_mode": {
    "name": "ipython",
    "version": 3
   },
   "file_extension": ".py",
   "mimetype": "text/x-python",
   "name": "python",
   "nbconvert_exporter": "python",
   "pygments_lexer": "ipython3",
   "version": "3.8.10"
  }
 },
 "nbformat": 4,
 "nbformat_minor": 5
}
