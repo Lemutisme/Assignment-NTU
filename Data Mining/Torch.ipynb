{
 "cells": [
  {
   "cell_type": "code",
   "execution_count": 1,
   "id": "1abf3d86-beb1-4db7-8ded-eed87b506f0c",
   "metadata": {},
   "outputs": [
    {
     "data": {
      "text/plain": [
       "'/Users/clause/Desktop/ZD'"
      ]
     },
     "execution_count": 1,
     "metadata": {},
     "output_type": "execute_result"
    }
   ],
   "source": [
    "import numpy as np\n",
    "import pandas as pd\n",
    "\n",
    "import torch\n",
    "import torch.nn as nn\n",
    "import torch.optim as optim\n",
    "import torch.nn.functional as F\n",
    "from torch.autograd import Variable\n",
    "from torch.utils.data import Dataset, DataLoader\n",
    "\n",
    "from sklearn.model_selection import train_test_split\n",
    "from sklearn.metrics import confusion_matrix\n",
    "\n",
    "from math import sqrt\n",
    "import os\n",
    "os.getcwd()"
   ]
  },
  {
   "cell_type": "code",
   "execution_count": 2,
   "id": "01f3be2f-d314-4965-9670-e863484ef330",
   "metadata": {},
   "outputs": [],
   "source": [
    "train = pd.read_csv('/Users/clause/Desktop/QML/train.csv', index_col = 0)\n",
    "test = pd.read_csv('/Users/clause/Desktop/QML/test.csv', index_col = 0)"
   ]
  },
  {
   "cell_type": "code",
   "execution_count": 3,
   "id": "e6631a11-5537-47aa-8060-a63b4b4230f5",
   "metadata": {},
   "outputs": [
    {
     "data": {
      "text/html": [
       "<div>\n",
       "<style scoped>\n",
       "    .dataframe tbody tr th:only-of-type {\n",
       "        vertical-align: middle;\n",
       "    }\n",
       "\n",
       "    .dataframe tbody tr th {\n",
       "        vertical-align: top;\n",
       "    }\n",
       "\n",
       "    .dataframe thead th {\n",
       "        text-align: right;\n",
       "    }\n",
       "</style>\n",
       "<table border=\"1\" class=\"dataframe\">\n",
       "  <thead>\n",
       "    <tr style=\"text-align: right;\">\n",
       "      <th></th>\n",
       "      <th>0</th>\n",
       "      <th>1</th>\n",
       "      <th>2</th>\n",
       "      <th>3</th>\n",
       "      <th>4</th>\n",
       "      <th>5</th>\n",
       "      <th>6</th>\n",
       "      <th>7</th>\n",
       "      <th>0.1</th>\n",
       "    </tr>\n",
       "  </thead>\n",
       "  <tbody>\n",
       "    <tr>\n",
       "      <th>0</th>\n",
       "      <td>0.652778</td>\n",
       "      <td>0.0</td>\n",
       "      <td>0.0</td>\n",
       "      <td>1.237158</td>\n",
       "      <td>-0.485387</td>\n",
       "      <td>-0.186567</td>\n",
       "      <td>-0.639733</td>\n",
       "      <td>0.0</td>\n",
       "      <td>0</td>\n",
       "    </tr>\n",
       "    <tr>\n",
       "      <th>1</th>\n",
       "      <td>0.438889</td>\n",
       "      <td>0.0</td>\n",
       "      <td>0.0</td>\n",
       "      <td>-0.017201</td>\n",
       "      <td>-0.324686</td>\n",
       "      <td>0.515736</td>\n",
       "      <td>-0.158885</td>\n",
       "      <td>1.0</td>\n",
       "      <td>0</td>\n",
       "    </tr>\n",
       "    <tr>\n",
       "      <th>2</th>\n",
       "      <td>0.466667</td>\n",
       "      <td>0.0</td>\n",
       "      <td>0.0</td>\n",
       "      <td>0.484542</td>\n",
       "      <td>0.234839</td>\n",
       "      <td>-0.537718</td>\n",
       "      <td>-0.701237</td>\n",
       "      <td>1.0</td>\n",
       "      <td>0</td>\n",
       "    </tr>\n",
       "    <tr>\n",
       "      <th>3</th>\n",
       "      <td>0.166667</td>\n",
       "      <td>0.0</td>\n",
       "      <td>0.0</td>\n",
       "      <td>0.484542</td>\n",
       "      <td>0.047138</td>\n",
       "      <td>-0.537718</td>\n",
       "      <td>0.584752</td>\n",
       "      <td>1.0</td>\n",
       "      <td>0</td>\n",
       "    </tr>\n",
       "    <tr>\n",
       "      <th>4</th>\n",
       "      <td>0.177778</td>\n",
       "      <td>0.0</td>\n",
       "      <td>0.0</td>\n",
       "      <td>-1.271561</td>\n",
       "      <td>-0.488966</td>\n",
       "      <td>-0.186567</td>\n",
       "      <td>-0.530704</td>\n",
       "      <td>1.0</td>\n",
       "      <td>0</td>\n",
       "    </tr>\n",
       "  </tbody>\n",
       "</table>\n",
       "</div>"
      ],
      "text/plain": [
       "          0    1    2         3         4         5         6    7  0.1\n",
       "0  0.652778  0.0  0.0  1.237158 -0.485387 -0.186567 -0.639733  0.0    0\n",
       "1  0.438889  0.0  0.0 -0.017201 -0.324686  0.515736 -0.158885  1.0    0\n",
       "2  0.466667  0.0  0.0  0.484542  0.234839 -0.537718 -0.701237  1.0    0\n",
       "3  0.166667  0.0  0.0  0.484542  0.047138 -0.537718  0.584752  1.0    0\n",
       "4  0.177778  0.0  0.0 -1.271561 -0.488966 -0.186567 -0.530704  1.0    0"
      ]
     },
     "execution_count": 3,
     "metadata": {},
     "output_type": "execute_result"
    }
   ],
   "source": [
    "train.head()"
   ]
  },
  {
   "cell_type": "code",
   "execution_count": 4,
   "id": "40117dcf-a9d2-41f2-b2ec-c32524beadac",
   "metadata": {},
   "outputs": [],
   "source": [
    "train.rename(columns={'0.1': 'target'}, inplace=True)\n",
    "test.rename(columns={'0.1': 'target'}, inplace=True)"
   ]
  },
  {
   "cell_type": "code",
   "execution_count": 5,
   "id": "0363c5eb-b319-4102-a688-5fde9a9f0d53",
   "metadata": {},
   "outputs": [],
   "source": [
    "X_train, y_train, X_test, y_test = train.iloc[:,:-1], train.iloc[:,-1], test.iloc[:,:-1], test.iloc[:,-1]"
   ]
  },
  {
   "cell_type": "code",
   "execution_count": 6,
   "id": "f9c505c1-d630-4d41-9482-1ae04365833f",
   "metadata": {},
   "outputs": [],
   "source": [
    "EPOCHS = 50\n",
    "BATCH_SIZE = 64\n",
    "LEARNING_RATE = 0.001"
   ]
  },
  {
   "cell_type": "code",
   "execution_count": 7,
   "id": "024cca40-21b8-441e-82f8-64092eb2bada",
   "metadata": {},
   "outputs": [],
   "source": [
    "class trainData(Dataset):\n",
    "    \n",
    "    def __init__(self, X_data, y_data):\n",
    "        self.X_data = X_data\n",
    "        self.y_data = y_data\n",
    "        \n",
    "    def __getitem__(self, index):\n",
    "        return self.X_data[index], self.y_data[index]\n",
    "    \n",
    "    def __len__(self):\n",
    "        return len(self.X_data)\n",
    "    \n",
    "class testData(Dataset):\n",
    "    \n",
    "    def __init__(self, X_data):\n",
    "        self.X_data = X_data\n",
    "        \n",
    "    def __getitem__(self, index):\n",
    "        return self.X_data[index]\n",
    "    \n",
    "    def __len__(self):\n",
    "        return len(self.X_data)\n"
   ]
  },
  {
   "cell_type": "code",
   "execution_count": 8,
   "id": "452dab84-93e0-49a9-8f3c-9e9c2d7caa81",
   "metadata": {},
   "outputs": [],
   "source": [
    "train_data = trainData(torch.FloatTensor(X_train.values),\n",
    "                       torch.FloatTensor(y_train.values))    \n",
    "\n",
    "test_data = testData(torch.FloatTensor(X_test.values))"
   ]
  },
  {
   "cell_type": "code",
   "execution_count": 9,
   "id": "786a595f-3ddb-4bd8-b4b3-15085b0d82c8",
   "metadata": {},
   "outputs": [],
   "source": [
    "train_loader = DataLoader(dataset = train_data, batch_size = BATCH_SIZE, shuffle = True)\n",
    "test_loader = DataLoader(dataset = test_data, batch_size = 1)"
   ]
  },
  {
   "cell_type": "code",
   "execution_count": 10,
   "id": "02cf4383-4c7f-4547-b447-640bac35e253",
   "metadata": {},
   "outputs": [],
   "source": [
    "class MLP(nn.Module):\n",
    "    def __init__(self):\n",
    "        super(MLP, self).__init__()\n",
    "        \n",
    "        self.layer_1 = nn.Linear(8, 64)\n",
    "        self.layer_2 = nn.Linear(64, 64)\n",
    "        self.layer_3 = nn.Linear(64, 64)\n",
    "        self.layer_out = nn.Linear(64, 1)\n",
    "        \n",
    "        self.relu = nn.ReLU()\n",
    "        self.dropout = nn.Dropout(p = 0.1)\n",
    "        self.batchnorm1 = nn.BatchNorm1d(64)\n",
    "        self.batchnorm2 = nn.BatchNorm1d(64)\n",
    "        self.batchnorm3 = nn.BatchNorm1d(64)\n",
    "        \n",
    "    def forward(self, inputs):\n",
    "        x = self.relu(self.layer_1(inputs))\n",
    "        x = self.batchnorm1(x)\n",
    "        x = self.relu(self.layer_2(x))\n",
    "        x = self.batchnorm2(x)\n",
    "        x = self.relu(self.layer_3(x))\n",
    "        x = self.batchnorm3(x)\n",
    "        x = self.dropout(x)\n",
    "        x = self.layer_out(x)\n",
    "        \n",
    "        return x"
   ]
  },
  {
   "cell_type": "code",
   "execution_count": 11,
   "id": "aeb982dd-6929-4a98-9923-8034310c8cda",
   "metadata": {},
   "outputs": [
    {
     "name": "stdout",
     "output_type": "stream",
     "text": [
      "cpu\n"
     ]
    }
   ],
   "source": [
    "device = torch.device('cuda:0' if torch.cuda.is_available() else 'cpu')\n",
    "\n",
    "print(device)"
   ]
  },
  {
   "cell_type": "code",
   "execution_count": 12,
   "id": "64e48b48-be1f-49a8-bf0c-c25985393104",
   "metadata": {},
   "outputs": [
    {
     "name": "stdout",
     "output_type": "stream",
     "text": [
      "MLP(\n",
      "  (layer_1): Linear(in_features=8, out_features=64, bias=True)\n",
      "  (layer_2): Linear(in_features=64, out_features=64, bias=True)\n",
      "  (layer_3): Linear(in_features=64, out_features=64, bias=True)\n",
      "  (layer_out): Linear(in_features=64, out_features=1, bias=True)\n",
      "  (relu): ReLU()\n",
      "  (dropout): Dropout(p=0.1, inplace=False)\n",
      "  (batchnorm1): BatchNorm1d(64, eps=1e-05, momentum=0.1, affine=True, track_running_stats=True)\n",
      "  (batchnorm2): BatchNorm1d(64, eps=1e-05, momentum=0.1, affine=True, track_running_stats=True)\n",
      "  (batchnorm3): BatchNorm1d(64, eps=1e-05, momentum=0.1, affine=True, track_running_stats=True)\n",
      ")\n"
     ]
    }
   ],
   "source": [
    "model = MLP()\n",
    "model.to(device)\n",
    "\n",
    "print(model)"
   ]
  },
  {
   "cell_type": "code",
   "execution_count": 13,
   "id": "41f90a37-7f69-42f2-87fa-150ff3d64e64",
   "metadata": {},
   "outputs": [],
   "source": [
    "criterion = nn.BCEWithLogitsLoss()\n",
    "optimizer = optim.Adam(model.parameters(), lr = LEARNING_RATE)"
   ]
  },
  {
   "cell_type": "code",
   "execution_count": 14,
   "id": "3a3119e5-e3ec-401f-a835-48c220775c21",
   "metadata": {},
   "outputs": [],
   "source": [
    "def MLP_acc(y_pred, y_test):\n",
    "    y_pred_tag = torch.round(torch.sigmoid(y_pred))\n",
    "    \n",
    "    correct_results_sum = (y_pred_tag == y_test).sum().float()\n",
    "    acc = correct_results_sum/y_test.shape[0]\n",
    "    acc = torch.round(acc * 100)\n",
    "    \n",
    "    return acc"
   ]
  },
  {
   "cell_type": "code",
   "execution_count": 15,
   "id": "2167c86d-f088-492b-9f32-79eea5cfb00a",
   "metadata": {},
   "outputs": [],
   "source": [
    "def MLP_mcc(y_pred, y_test):\n",
    "    y_pred_tag = torch.round(torch.sigmoid(y_pred))\n",
    "    cm = confusion_matrix(y_test.detach().numpy(), y_pred_tag.detach().numpy())\n",
    "    mcc = (cm[0,0]*cm[1,1]-cm[0,1]*cm[1,0])/sqrt((cm[0,0]+cm[0,1])*(cm[0,0]+cm[1,0])*(cm[1,1]+cm[0,1])*(cm[1,1]+cm[1,0]))\n",
    "    \n",
    "    return mcc"
   ]
  },
  {
   "cell_type": "code",
   "execution_count": 16,
   "id": "ac1a65b2-c58c-4da8-ae68-d21904ca4629",
   "metadata": {},
   "outputs": [
    {
     "name": "stdout",
     "output_type": "stream",
     "text": [
      "Epoch 001: | Loss:0.43748 | Acc: 80.446 Mcc: 0.613\n",
      "Epoch 002: | Loss:0.40490 | Acc: 82.159 Mcc: 0.646\n",
      "Epoch 003: | Loss:0.39399 | Acc: 82.783 Mcc: 0.658\n",
      "Epoch 004: | Loss:0.40072 | Acc: 82.070 Mcc: 0.645\n",
      "Epoch 005: | Loss:0.39230 | Acc: 82.694 Mcc: 0.656\n",
      "Epoch 006: | Loss:0.38220 | Acc: 82.904 Mcc: 0.661\n",
      "Epoch 007: | Loss:0.38632 | Acc: 83.089 Mcc: 0.663\n",
      "Epoch 008: | Loss:0.37979 | Acc: 83.395 Mcc: 0.672\n",
      "Epoch 009: | Loss:0.37775 | Acc: 83.682 Mcc: 0.678\n",
      "Epoch 010: | Loss:0.37349 | Acc: 83.586 Mcc: 0.675\n",
      "Epoch 011: | Loss:0.37354 | Acc: 83.446 Mcc: 0.671\n",
      "Epoch 012: | Loss:0.36882 | Acc: 83.904 Mcc: 0.681\n",
      "Epoch 013: | Loss:0.36927 | Acc: 84.076 Mcc: 0.686\n",
      "Epoch 014: | Loss:0.36436 | Acc: 84.223 Mcc: 0.688\n",
      "Epoch 015: | Loss:0.35985 | Acc: 83.994 Mcc: 0.684\n",
      "Epoch 016: | Loss:0.35918 | Acc: 83.904 Mcc: 0.681\n",
      "Epoch 017: | Loss:0.35891 | Acc: 84.032 Mcc: 0.685\n",
      "Epoch 018: | Loss:0.35679 | Acc: 84.325 Mcc: 0.689\n",
      "Epoch 019: | Loss:0.35594 | Acc: 84.382 Mcc: 0.691\n",
      "Epoch 020: | Loss:0.35370 | Acc: 84.516 Mcc: 0.694\n",
      "Epoch 021: | Loss:0.34959 | Acc: 84.516 Mcc: 0.692\n",
      "Epoch 022: | Loss:0.35598 | Acc: 84.510 Mcc: 0.693\n",
      "Epoch 023: | Loss:0.35182 | Acc: 84.554 Mcc: 0.695\n",
      "Epoch 024: | Loss:0.34686 | Acc: 85.057 Mcc: 0.703\n",
      "Epoch 025: | Loss:0.34962 | Acc: 84.707 Mcc: 0.697\n",
      "Epoch 026: | Loss:0.34679 | Acc: 85.121 Mcc: 0.706\n",
      "Epoch 027: | Loss:0.34587 | Acc: 84.771 Mcc: 0.698\n",
      "Epoch 028: | Loss:0.34398 | Acc: 84.904 Mcc: 0.700\n",
      "Epoch 029: | Loss:0.34153 | Acc: 85.083 Mcc: 0.705\n",
      "Epoch 030: | Loss:0.33854 | Acc: 85.274 Mcc: 0.707\n",
      "Epoch 031: | Loss:0.33321 | Acc: 85.325 Mcc: 0.709\n",
      "Epoch 032: | Loss:0.34175 | Acc: 84.879 Mcc: 0.698\n",
      "Epoch 033: | Loss:0.34089 | Acc: 85.013 Mcc: 0.703\n",
      "Epoch 034: | Loss:0.33239 | Acc: 85.471 Mcc: 0.713\n",
      "Epoch 035: | Loss:0.33369 | Acc: 85.236 Mcc: 0.708\n",
      "Epoch 036: | Loss:0.33384 | Acc: 85.344 Mcc: 0.709\n",
      "Epoch 037: | Loss:0.33256 | Acc: 85.605 Mcc: 0.714\n",
      "Epoch 038: | Loss:0.33420 | Acc: 85.064 Mcc: 0.703\n",
      "Epoch 039: | Loss:0.33413 | Acc: 85.707 Mcc: 0.717\n",
      "Epoch 040: | Loss:0.33488 | Acc: 85.433 Mcc: 0.711\n",
      "Epoch 041: | Loss:0.32969 | Acc: 85.599 Mcc: 0.715\n",
      "Epoch 042: | Loss:0.32596 | Acc: 85.624 Mcc: 0.716\n",
      "Epoch 043: | Loss:0.32806 | Acc: 85.707 Mcc: 0.718\n",
      "Epoch 044: | Loss:0.32681 | Acc: 85.707 Mcc: 0.717\n",
      "Epoch 045: | Loss:0.32536 | Acc: 86.032 Mcc: 0.723\n",
      "Epoch 046: | Loss:0.32788 | Acc: 85.503 Mcc: 0.713\n",
      "Epoch 047: | Loss:0.32172 | Acc: 85.866 Mcc: 0.720\n",
      "Epoch 048: | Loss:0.33466 | Acc: 85.357 Mcc: 0.711\n",
      "Epoch 049: | Loss:0.32583 | Acc: 85.592 Mcc: 0.714\n",
      "Epoch 050: | Loss:0.32580 | Acc: 85.688 Mcc: 0.716\n"
     ]
    }
   ],
   "source": [
    "model.train()\n",
    "for e in range(1, EPOCHS + 1):\n",
    "    epoch_loss = 0\n",
    "    epoch_acc = 0\n",
    "    epoch_mcc = 0\n",
    "    for X_batch, y_batch in train_loader:\n",
    "        X_batch, y_batch = X_batch.to(device), y_batch.to(device)\n",
    "        optimizer.zero_grad()\n",
    "        \n",
    "        y_pred = model(X_batch)\n",
    "        \n",
    "        loss = criterion(y_pred, y_batch.unsqueeze(1))\n",
    "        acc = MLP_acc(y_pred, y_batch.unsqueeze(1))\n",
    "        mcc = MLP_mcc(y_pred, y_batch.unsqueeze(1))\n",
    "        \n",
    "        loss.backward()\n",
    "        optimizer.step()\n",
    "        \n",
    "        epoch_loss += loss.item()\n",
    "        epoch_acc += acc.item()\n",
    "        epoch_mcc += mcc.item()\n",
    "        \n",
    "    #print(f'Epoch {e+0:03}: | Loss:{epoch_loss/len(train_loader):.5f} | Acc:{epoch_acc/len(train_loader): .3f}')\n",
    "    print(f'Epoch {e+0:03}: | Loss:{epoch_loss/len(train_loader):.5f} | Acc:{epoch_acc/len(train_loader): .3f} Mcc:{epoch_mcc/len(train_loader): .3f}')"
   ]
  },
  {
   "cell_type": "code",
   "execution_count": 21,
   "id": "d20fdf22-7e26-4844-a9a0-7669bdbac29b",
   "metadata": {},
   "outputs": [],
   "source": [
    "def pred(x, test_loader):\n",
    "    y_pred_list = []\n",
    "    model.eval()\n",
    "    with torch.no_grad():\n",
    "        for X_batch in test_loader:\n",
    "            X_batch = X_batch.to(device)\n",
    "            y_test_pred= model(X_batch)\n",
    "            y_test_pred= torch.sigmoid(y_test_pred)\n",
    "            y_pred_tag = torch.round(y_test_pred)\n",
    "            y_pred_list.append(y_pred_tag.cpu().numpy())\n",
    "        \n",
    "    y_pred_list = [a.squeeze().tolist() for a in y_pred_list]\n",
    "    cm = confusion_matrix(x, y_pred_list)\n",
    "    acc = (cm[0,0]+cm[1,1])/(cm[0,0]+cm[0,1]+cm[1,0]+cm[1,1])\n",
    "    mcc = (cm[0,0]*cm[1,1]-cm[0,1]*cm[1,0])/sqrt((cm[0,0]+cm[0,1])*(cm[0,0]+cm[1,0])*(cm[1,1]+cm[0,1])*(cm[1,1]+cm[1,0]))\n",
    "    \n",
    "    print('Confusion Matrix:')\n",
    "    print(cm)\n",
    "    print(f' Accurency:{acc}, MCC:{mcc}')"
   ]
  },
  {
   "cell_type": "code",
   "execution_count": 22,
   "id": "9c6ef47e-83c2-43f7-8251-3b36e5e901ee",
   "metadata": {},
   "outputs": [
    {
     "name": "stdout",
     "output_type": "stream",
     "text": [
      "Confusion Matrix:\n",
      "[[3139  844]\n",
      " [  88  451]]\n",
      " Accurency:0.7938965059708094, MCC:0.4478472411703866\n"
     ]
    }
   ],
   "source": [
    "pred(y_test, test_loader)"
   ]
  },
  {
   "cell_type": "code",
   "execution_count": null,
   "id": "6c52412a-130c-4841-94f1-fdc7ea30f5ba",
   "metadata": {},
   "outputs": [],
   "source": []
  }
 ],
 "metadata": {
  "kernelspec": {
   "display_name": "Python 3.8.11 64-bit ('SG': conda)",
   "language": "python",
   "name": "python3811jvsc74a57bd07a6f98175224ac069bcda48e88ee966dcd6d4986de0e49897a5f5d4fa87def3f"
  },
  "language_info": {
   "codemirror_mode": {
    "name": "ipython",
    "version": 3
   },
   "file_extension": ".py",
   "mimetype": "text/x-python",
   "name": "python",
   "nbconvert_exporter": "python",
   "pygments_lexer": "ipython3",
   "version": "3.8.11"
  }
 },
 "nbformat": 4,
 "nbformat_minor": 5
}
