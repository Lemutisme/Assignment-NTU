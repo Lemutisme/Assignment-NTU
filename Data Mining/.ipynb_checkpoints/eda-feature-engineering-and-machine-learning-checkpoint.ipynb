{
 "cells": [
  {
   "cell_type": "markdown",
   "metadata": {
    "papermill": {
     "duration": 0.046662,
     "end_time": "2020-11-29T19:03:16.703237",
     "exception": false,
     "start_time": "2020-11-29T19:03:16.656575",
     "status": "completed"
    },
    "tags": []
   },
   "source": [
    "**Note:** I am still working on this notebook. Please consider dropping by again to see more updates."
   ]
  },
  {
   "cell_type": "code",
   "execution_count": 1,
   "metadata": {
    "_cell_guid": "79c7e3d0-c299-4dcb-8224-4455121ee9b0",
    "_uuid": "d629ff2d2480ee46fbb7e2d37f6b5fab8052498a",
    "papermill": {
     "duration": 1.945029,
     "end_time": "2020-11-29T19:03:18.902961",
     "exception": false,
     "start_time": "2020-11-29T19:03:16.957932",
     "status": "completed"
    },
    "tags": []
   },
   "outputs": [],
   "source": [
    "# Importing libraries\n",
    "\n",
    "import pandas as pd\n",
    "import numpy as np\n",
    "\n",
    "import matplotlib.pyplot as plt\n",
    "import seaborn as sns\n",
    "\n",
    "from sklearn.preprocessing import LabelEncoder\n",
    "from imblearn.under_sampling import NearMiss\n",
    "from scipy import stats\n",
    "\n",
    "%matplotlib inline"
   ]
  },
  {
   "cell_type": "code",
   "execution_count": 2,
   "metadata": {
    "papermill": {
     "duration": 0.267664,
     "end_time": "2020-11-29T19:03:19.220787",
     "exception": false,
     "start_time": "2020-11-29T19:03:18.953123",
     "status": "completed"
    },
    "tags": []
   },
   "outputs": [],
   "source": [
    "df = pd.read_csv('/Users/clause/documents/GitHub/bank_data_analysis/bank-full.csv',sep=';')"
   ]
  },
  {
   "cell_type": "code",
   "execution_count": 3,
   "metadata": {
    "papermill": {
     "duration": 0.099271,
     "end_time": "2020-11-29T19:03:19.368256",
     "exception": false,
     "start_time": "2020-11-29T19:03:19.268985",
     "status": "completed"
    },
    "tags": []
   },
   "outputs": [],
   "source": [
    "Y = (df['y'] == 'yes')*1"
   ]
  },
  {
   "cell_type": "code",
   "execution_count": 4,
   "metadata": {
    "papermill": {
     "duration": 0.123424,
     "end_time": "2020-11-29T19:03:19.540553",
     "exception": false,
     "start_time": "2020-11-29T19:03:19.417129",
     "status": "completed"
    },
    "tags": []
   },
   "outputs": [
    {
     "name": "stdout",
     "output_type": "stream",
     "text": [
      "<class 'pandas.core.frame.DataFrame'>\n",
      "RangeIndex: 45211 entries, 0 to 45210\n",
      "Data columns (total 17 columns):\n",
      " #   Column     Non-Null Count  Dtype \n",
      "---  ------     --------------  ----- \n",
      " 0   age        45211 non-null  int64 \n",
      " 1   job        45211 non-null  object\n",
      " 2   marital    45211 non-null  object\n",
      " 3   education  45211 non-null  object\n",
      " 4   default    45211 non-null  object\n",
      " 5   balance    45211 non-null  int64 \n",
      " 6   housing    45211 non-null  object\n",
      " 7   loan       45211 non-null  object\n",
      " 8   contact    45211 non-null  object\n",
      " 9   day        45211 non-null  int64 \n",
      " 10  month      45211 non-null  object\n",
      " 11  duration   45211 non-null  int64 \n",
      " 12  campaign   45211 non-null  int64 \n",
      " 13  pdays      45211 non-null  int64 \n",
      " 14  previous   45211 non-null  int64 \n",
      " 15  poutcome   45211 non-null  object\n",
      " 16  y          45211 non-null  object\n",
      "dtypes: int64(7), object(10)\n",
      "memory usage: 5.9+ MB\n"
     ]
    }
   ],
   "source": [
    "# Looking at statistics of our data\n",
    "df.info()"
   ]
  },
  {
   "cell_type": "code",
   "execution_count": 5,
   "metadata": {
    "papermill": {
     "duration": 0.061472,
     "end_time": "2020-11-29T19:03:19.651352",
     "exception": false,
     "start_time": "2020-11-29T19:03:19.589880",
     "status": "completed"
    },
    "tags": []
   },
   "outputs": [
    {
     "data": {
      "text/plain": [
       "Index(['age', 'job', 'marital', 'education', 'default', 'balance', 'housing',\n",
       "       'loan', 'contact', 'day', 'month', 'duration', 'campaign', 'pdays',\n",
       "       'previous', 'poutcome', 'y'],\n",
       "      dtype='object')"
      ]
     },
     "execution_count": 5,
     "metadata": {},
     "output_type": "execute_result"
    }
   ],
   "source": [
    "# Looking at all the columns in the dataset.\n",
    "df.columns"
   ]
  },
  {
   "cell_type": "code",
   "execution_count": 6,
   "metadata": {
    "papermill": {
     "duration": 0.079745,
     "end_time": "2020-11-29T19:03:19.780531",
     "exception": false,
     "start_time": "2020-11-29T19:03:19.700786",
     "status": "completed"
    },
    "tags": []
   },
   "outputs": [],
   "source": [
    "# Dropping y from the original dataset as we have read it seperately\n",
    "df.drop('y', axis = 1, inplace = True)"
   ]
  },
  {
   "cell_type": "code",
   "execution_count": 7,
   "metadata": {
    "papermill": {
     "duration": 0.079843,
     "end_time": "2020-11-29T19:03:19.913860",
     "exception": false,
     "start_time": "2020-11-29T19:03:19.834017",
     "status": "completed"
    },
    "tags": []
   },
   "outputs": [
    {
     "name": "stdout",
     "output_type": "stream",
     "text": [
      "   age           job  marital  education default  balance housing loan  \\\n",
      "0   58    management  married   tertiary      no     2143     yes   no   \n",
      "1   44    technician   single  secondary      no       29     yes   no   \n",
      "2   33  entrepreneur  married  secondary      no        2     yes  yes   \n",
      "3   47   blue-collar  married    unknown      no     1506     yes   no   \n",
      "4   33       unknown   single    unknown      no        1      no   no   \n",
      "\n",
      "   contact  day month  duration  campaign  pdays  previous poutcome  \n",
      "0  unknown    5   may       261         1     -1         0  unknown  \n",
      "1  unknown    5   may       151         1     -1         0  unknown  \n",
      "2  unknown    5   may        76         1     -1         0  unknown  \n",
      "3  unknown    5   may        92         1     -1         0  unknown  \n",
      "4  unknown    5   may       198         1     -1         0  unknown  \n"
     ]
    }
   ],
   "source": [
    "# First five rows of the dataset after dropping y from the dataset\n",
    "print(df.head())"
   ]
  },
  {
   "cell_type": "markdown",
   "metadata": {
    "papermill": {
     "duration": 0.064147,
     "end_time": "2020-11-29T19:03:20.030541",
     "exception": false,
     "start_time": "2020-11-29T19:03:19.966394",
     "status": "completed"
    },
    "tags": []
   },
   "source": [
    "## **1. Exploratory Data Analysis**\n",
    "\n",
    "Will perform some Exploratory Data Analysis to see how different features are distribute in the dataset. "
   ]
  },
  {
   "cell_type": "markdown",
   "metadata": {
    "papermill": {
     "duration": 0.051861,
     "end_time": "2020-11-29T19:03:20.134555",
     "exception": false,
     "start_time": "2020-11-29T19:03:20.082694",
     "status": "completed"
    },
    "tags": []
   },
   "source": [
    "1.1 Visaulizing how age is distributed in the dataset"
   ]
  },
  {
   "cell_type": "code",
   "execution_count": 8,
   "metadata": {
    "papermill": {
     "duration": 0.502226,
     "end_time": "2020-11-29T19:03:20.687866",
     "exception": false,
     "start_time": "2020-11-29T19:03:20.185640",
     "status": "completed"
    },
    "tags": []
   },
   "outputs": [
    {
     "name": "stderr",
     "output_type": "stream",
     "text": [
      "/Users/clause/Anaconda/anaconda3/envs/ML/lib/python3.8/site-packages/seaborn/distributions.py:2557: FutureWarning: `distplot` is a deprecated function and will be removed in a future version. Please adapt your code to use either `displot` (a figure-level function with similar flexibility) or `histplot` (an axes-level function for histograms).\n",
      "  warnings.warn(msg, FutureWarning)\n"
     ]
    },
    {
     "data": {
      "text/plain": [
       "<AxesSubplot:xlabel='age', ylabel='Density'>"
      ]
     },
     "execution_count": 8,
     "metadata": {},
     "output_type": "execute_result"
    },
    {
     "data": {
      "image/png": "[encoded data removed]",
      "text/plain": [
       "<Figure size 432x288 with 1 Axes>"
      ]
     },
     "metadata": {
      "needs_background": "light"
     },
     "output_type": "display_data"
    }
   ],
   "source": [
    "# Visaulizing how age is distributed in the dataset\n",
    "sns.distplot(df['age'], hist = True, color = \"#07247D\", hist_kws = {'edgecolor':'black'})"
   ]
  },
  {
   "cell_type": "markdown",
   "metadata": {
    "papermill": {
     "duration": 0.051561,
     "end_time": "2020-11-29T19:03:20.792035",
     "exception": false,
     "start_time": "2020-11-29T19:03:20.740474",
     "status": "completed"
    },
    "tags": []
   },
   "source": [
    "1.2 Visualizing how Maritial Status and Education is distributed in the dataset."
   ]
  },
  {
   "cell_type": "code",
   "execution_count": 9,
   "metadata": {
    "papermill": {
     "duration": 0.428481,
     "end_time": "2020-11-29T19:03:21.273008",
     "exception": false,
     "start_time": "2020-11-29T19:03:20.844527",
     "status": "completed"
    },
    "tags": []
   },
   "outputs": [
    {
     "data": {
      "text/plain": [
       "[Text(0, 0, 'tertiary'),\n",
       " Text(1, 0, 'secondary'),\n",
       " Text(2, 0, 'unknown'),\n",
       " Text(3, 0, 'primary')]"
      ]
     },
     "execution_count": 9,
     "metadata": {},
     "output_type": "execute_result"
    },
    {
     "data": {
      "image/png": "[encoded data removed]",
      "text/plain": [
       "<Figure size 936x360 with 2 Axes>"
      ]
     },
     "metadata": {
      "needs_background": "light"
     },
     "output_type": "display_data"
    }
   ],
   "source": [
    "# Visualizing how Maritial Status and Education is distributed in the dataset. \n",
    "fig, (ax1, ax2) = plt.subplots(nrows = 1, ncols = 2, figsize = (13, 5))\n",
    "\n",
    "# First plot for marital status\n",
    "sns.countplot(x = \"marital\", data = df, ax = ax1)\n",
    "ax1.set_title(\"marital status distribution\", fontsize = 13)\n",
    "ax1.set_xlabel(\"Marital Status\", fontsize = 12)\n",
    "ax1.set_ylabel(\"Count\", fontsize = 12)\n",
    "\n",
    "# Second plot for Education distribution\n",
    "sns.countplot(x = \"education\", data = df, ax = ax2)\n",
    "ax2.set_title(\"Education distribution\", fontsize = 13)\n",
    "ax2.set_xlabel(\"Education level\", fontsize = 12)\n",
    "ax2.set_ylabel(\"Count\", fontsize = 12)\n",
    "ax2.set_xticklabels(ax2.get_xticklabels(), rotation = 70)"
   ]
  },
  {
   "cell_type": "markdown",
   "metadata": {
    "papermill": {
     "duration": 0.053416,
     "end_time": "2020-11-29T19:03:21.380430",
     "exception": false,
     "start_time": "2020-11-29T19:03:21.327014",
     "status": "completed"
    },
    "tags": []
   },
   "source": [
    "1.3 Visualizing how Jobs are distribution"
   ]
  },
  {
   "cell_type": "code",
   "execution_count": 10,
   "metadata": {
    "papermill": {
     "duration": 0.295731,
     "end_time": "2020-11-29T19:03:21.729789",
     "exception": false,
     "start_time": "2020-11-29T19:03:21.434058",
     "status": "completed"
    },
    "tags": []
   },
   "outputs": [
    {
     "data": {
      "text/plain": [
       "Text(0.5, 1.0, 'Job Count Distribution')"
      ]
     },
     "execution_count": 10,
     "metadata": {},
     "output_type": "execute_result"
    },
    {
     "data": {
      "image/png": "[encoded data removed]",
      "text/plain": [
       "<Figure size 1080x360 with 1 Axes>"
      ]
     },
     "metadata": {
      "needs_background": "light"
     },
     "output_type": "display_data"
    }
   ],
   "source": [
    "fig, ax = plt.subplots()\n",
    "fig.set_size_inches(15,5)\n",
    "sns.countplot(x = \"job\", data = df)\n",
    "ax.set_xlabel('Job', fontsize = 12)\n",
    "ax.set_ylabel('Count', fontsize = 12)\n",
    "ax.set_title(\"Job Count Distribution\", fontsize = 13)"
   ]
  },
  {
   "cell_type": "markdown",
   "metadata": {
    "papermill": {
     "duration": 0.055692,
     "end_time": "2020-11-29T19:03:21.840885",
     "exception": false,
     "start_time": "2020-11-29T19:03:21.785193",
     "status": "completed"
    },
    "tags": []
   },
   "source": [
    "1.4 Housing and Loan Distribution\n",
    "\n",
    "Visualizing how: \n",
    "\n",
    "1. Housing Loans are distributed. \n",
    "2. Personal Loans are distributed. "
   ]
  },
  {
   "cell_type": "code",
   "execution_count": 11,
   "metadata": {
    "papermill": {
     "duration": 0.356451,
     "end_time": "2020-11-29T19:03:22.252958",
     "exception": false,
     "start_time": "2020-11-29T19:03:21.896507",
     "status": "completed"
    },
    "tags": []
   },
   "outputs": [
    {
     "data": {
      "text/plain": [
       "Text(0, 0.5, 'Count')"
      ]
     },
     "execution_count": 11,
     "metadata": {},
     "output_type": "execute_result"
    },
    {
     "data": {
      "image/png": "[encoded data removed]",
      "text/plain": [
       "<Figure size 1080x360 with 2 Axes>"
      ]
     },
     "metadata": {
      "needs_background": "light"
     },
     "output_type": "display_data"
    }
   ],
   "source": [
    "# Housing loan data distribution\n",
    "fig, (ax1, ax2) = plt.subplots(nrows = 1, ncols = 2, figsize = (15, 5))\n",
    "sns.countplot(x = \"housing\", data = df, ax = ax1, order = ['yes', 'no', 'unknown'])\n",
    "ax1.set_title(\"Housing Loan distribution\")\n",
    "ax1.set_xlabel(\"Housing Loan\")\n",
    "ax1.set_ylabel(\"Count\")\n",
    "\n",
    "# Personal loan data distribution\n",
    "sns.countplot(x = \"loan\", data = df, ax = ax2, order = ['yes', 'no', 'unknown'])\n",
    "ax2.set_title(\"Personal Loan Distribution\")\n",
    "ax2.set_xlabel(\"Personal Loan\")\n",
    "ax2.set_ylabel(\"Count\")"
   ]
  },
  {
   "cell_type": "markdown",
   "metadata": {
    "papermill": {
     "duration": 0.057378,
     "end_time": "2020-11-29T19:03:22.368535",
     "exception": false,
     "start_time": "2020-11-29T19:03:22.311157",
     "status": "completed"
    },
    "tags": []
   },
   "source": [
    "Getting total count for: \n",
    "\n",
    "1. Credit Defaulters \n",
    "2. People with Housing loan \n",
    "3. People with Personal loan"
   ]
  },
  {
   "cell_type": "markdown",
   "metadata": {
    "papermill": {
     "duration": 0.057145,
     "end_time": "2020-11-29T19:03:22.482792",
     "exception": false,
     "start_time": "2020-11-29T19:03:22.425647",
     "status": "completed"
    },
    "tags": []
   },
   "source": [
    "*Credit Defaulter*"
   ]
  },
  {
   "cell_type": "code",
   "execution_count": 12,
   "metadata": {
    "papermill": {
     "duration": 0.11333,
     "end_time": "2020-11-29T19:03:22.653474",
     "exception": false,
     "start_time": "2020-11-29T19:03:22.540144",
     "status": "completed"
    },
    "tags": []
   },
   "outputs": [
    {
     "name": "stdout",
     "output_type": "stream",
     "text": [
      "Number of people with credit default:  815\n",
      "Number of people with no credit default:  44396\n",
      "Number of people who's credit default is unknown:  0\n"
     ]
    }
   ],
   "source": [
    "print(\"Number of people with credit default: \", df[df['default'] == 'yes']['default'].count())\n",
    "print(\"Number of people with no credit default: \", df[df['default'] == 'no']['default'].count())\n",
    "print(\"Number of people who's credit default is unknown: \", df[df['default'] == 'unknown']['default'].count())"
   ]
  },
  {
   "cell_type": "markdown",
   "metadata": {
    "papermill": {
     "duration": 0.05722,
     "end_time": "2020-11-29T19:03:22.768078",
     "exception": false,
     "start_time": "2020-11-29T19:03:22.710858",
     "status": "completed"
    },
    "tags": []
   },
   "source": [
    "*Housing Loan*"
   ]
  },
  {
   "cell_type": "code",
   "execution_count": 13,
   "metadata": {
    "papermill": {
     "duration": 0.110301,
     "end_time": "2020-11-29T19:03:22.935724",
     "exception": false,
     "start_time": "2020-11-29T19:03:22.825423",
     "status": "completed"
    },
    "tags": []
   },
   "outputs": [
    {
     "name": "stdout",
     "output_type": "stream",
     "text": [
      "Number of people with Housing loan:  25130\n",
      "Number of people with no Housing loan:  20081\n",
      "Number of people who's Housing loan is unknown:  0\n"
     ]
    }
   ],
   "source": [
    "print(\"Number of people with Housing loan: \", df[df['housing'] == 'yes']['housing'].count())\n",
    "print(\"Number of people with no Housing loan: \", df[df['housing'] == 'no']['housing'].count())\n",
    "print(\"Number of people who's Housing loan is unknown: \", df[df['housing'] == 'unknown']['housing'].count())"
   ]
  },
  {
   "cell_type": "markdown",
   "metadata": {
    "papermill": {
     "duration": 0.059691,
     "end_time": "2020-11-29T19:03:23.053544",
     "exception": false,
     "start_time": "2020-11-29T19:03:22.993853",
     "status": "completed"
    },
    "tags": []
   },
   "source": [
    "*Personal Loan*"
   ]
  },
  {
   "cell_type": "code",
   "execution_count": 14,
   "metadata": {
    "papermill": {
     "duration": 0.111958,
     "end_time": "2020-11-29T19:03:23.225383",
     "exception": false,
     "start_time": "2020-11-29T19:03:23.113425",
     "status": "completed"
    },
    "tags": []
   },
   "outputs": [
    {
     "name": "stdout",
     "output_type": "stream",
     "text": [
      "Number of people with Personal loan:  7244\n",
      "Number of people with no Personal loan:  37967\n",
      "Number of people who's Personal loan is unknown:  0\n"
     ]
    }
   ],
   "source": [
    "print(\"Number of people with Personal loan: \", df[df['loan'] == 'yes']['loan'].count())\n",
    "print(\"Number of people with no Personal loan: \", df[df['loan'] == 'no']['loan'].count())\n",
    "print(\"Number of people who's Personal loan is unknown: \", df[df['loan'] == 'unknown']['loan'].count())"
   ]
  },
  {
   "cell_type": "markdown",
   "metadata": {
    "papermill": {
     "duration": 0.058426,
     "end_time": "2020-11-29T19:03:23.343268",
     "exception": false,
     "start_time": "2020-11-29T19:03:23.284842",
     "status": "completed"
    },
    "tags": []
   },
   "source": [
    "1.4 Visualisation related to \"Last Contact of the Current Campaign\" "
   ]
  },
  {
   "cell_type": "markdown",
   "metadata": {
    "papermill": {
     "duration": 0.060739,
     "end_time": "2020-11-29T19:03:23.463150",
     "exception": false,
     "start_time": "2020-11-29T19:03:23.402411",
     "status": "completed"
    },
    "tags": []
   },
   "source": [
    "<i> Visualisation related to Duration </i>\n",
    "\n",
    "Plotting duration using boxplot makes it difficult to obtain some important values like average of distribution and so I am plotting histogram on the side to see how its distributed and check for mean value (If its possible). "
   ]
  },
  {
   "cell_type": "code",
   "execution_count": 15,
   "metadata": {
    "papermill": {
     "duration": 0.503113,
     "end_time": "2020-11-29T19:03:24.025060",
     "exception": false,
     "start_time": "2020-11-29T19:03:23.521947",
     "status": "completed"
    },
    "tags": []
   },
   "outputs": [
    {
     "name": "stderr",
     "output_type": "stream",
     "text": [
      "/Users/clause/Anaconda/anaconda3/envs/ML/lib/python3.8/site-packages/seaborn/_core.py:1319: UserWarning: Vertical orientation ignored with only `x` specified.\n",
      "  warnings.warn(single_var_warning.format(\"Vertical\", \"x\"))\n"
     ]
    },
    {
     "data": {
      "text/plain": [
       "Text(0.5, 1.0, 'Call Duration vs Count')"
      ]
     },
     "execution_count": 15,
     "metadata": {},
     "output_type": "execute_result"
    },
    {
     "data": {
      "image/png": "[encoded data removed]",
      "text/plain": [
       "<Figure size 1080x360 with 2 Axes>"
      ]
     },
     "metadata": {
      "needs_background": "light"
     },
     "output_type": "display_data"
    }
   ],
   "source": [
    "fig, (ax1, ax2) = plt.subplots(nrows = 1, ncols = 2, figsize = (15, 5))\n",
    "\n",
    "sns.boxplot(x = \"duration\", data = df, orient = 'v', ax = ax1)\n",
    "ax1.set_xlabel(\"Calls\")\n",
    "ax1.set_ylabel(\"Duration\")\n",
    "ax1.set_title(\"Call distribution\")\n",
    "\n",
    "sns.histplot(df['duration'], ax = ax2)\n",
    "ax2.set_xlabel(\"Call duration\")\n",
    "ax2.set_ylabel(\"Count\")\n",
    "ax2.set_title(\"Call Duration vs Count\")"
   ]
  },
  {
   "cell_type": "markdown",
   "metadata": {
    "papermill": {
     "duration": 0.061176,
     "end_time": "2020-11-29T19:03:24.148596",
     "exception": false,
     "start_time": "2020-11-29T19:03:24.087420",
     "status": "completed"
    },
    "tags": []
   },
   "source": [
    "Getting all the Mean, Standard Diveation, Minimum and Maximum values for duration  "
   ]
  },
  {
   "cell_type": "code",
   "execution_count": 16,
   "metadata": {
    "papermill": {
     "duration": 0.077907,
     "end_time": "2020-11-29T19:03:24.287230",
     "exception": false,
     "start_time": "2020-11-29T19:03:24.209323",
     "status": "completed"
    },
    "tags": []
   },
   "outputs": [
    {
     "name": "stdout",
     "output_type": "stream",
     "text": [
      "Min call duration:  0\n",
      "Max call duration:  4918\n",
      "Median call duration:  258.16\n",
      "Standard diveation in call duration:  257.53\n"
     ]
    }
   ],
   "source": [
    "min_duration = df['duration'].min()\n",
    "max_duration = df['duration'].max()\n",
    "median_duration = df['duration'].mean()\n",
    "standard_dev_duration = df[\"duration\"].std()\n",
    "\n",
    "print(\"Min call duration: \", min_duration)\n",
    "print(\"Max call duration: \", max_duration)\n",
    "print(\"Median call duration: \", round(median_duration, 2))\n",
    "print(\"Standard diveation in call duration: \", round(standard_dev_duration, 2))"
   ]
  },
  {
   "cell_type": "markdown",
   "metadata": {
    "papermill": {
     "duration": 0.061142,
     "end_time": "2020-11-29T19:03:24.411404",
     "exception": false,
     "start_time": "2020-11-29T19:03:24.350262",
     "status": "completed"
    },
    "tags": []
   },
   "source": [
    "We can see from the box plot that most call duration is around the mean so finding the interquartile range will help us in understanding how long the call might last"
   ]
  },
  {
   "cell_type": "code",
   "execution_count": 17,
   "metadata": {
    "papermill": {
     "duration": 0.083466,
     "end_time": "2020-11-29T19:03:24.557262",
     "exception": false,
     "start_time": "2020-11-29T19:03:24.473796",
     "status": "completed"
    },
    "tags": []
   },
   "outputs": [
    {
     "name": "stdout",
     "output_type": "stream",
     "text": [
      "Second Quartile:  180.0\n",
      "Third Quartile:  319.0\n",
      "Inter quartile range(range within which most data is present):  139.0\n"
     ]
    }
   ],
   "source": [
    "first_quartile = df['duration'].quantile(q = 0.25)\n",
    "second_quartile = df['duration'].quantile(q = 0.50)\n",
    "third_quartile = df['duration'].quantile(q = 0.75)\n",
    "fourth_quartile = df['duration'].quantile(q = 1)\n",
    "IRQ = third_quartile - second_quartile\n",
    "\n",
    "print(\"Second Quartile: \", second_quartile)\n",
    "print(\"Third Quartile: \", third_quartile)\n",
    "print(\"Inter quartile range(range within which most data is present): \",IRQ)"
   ]
  },
  {
   "cell_type": "markdown",
   "metadata": {
    "papermill": {
     "duration": 0.06137,
     "end_time": "2020-11-29T19:03:24.681795",
     "exception": false,
     "start_time": "2020-11-29T19:03:24.620425",
     "status": "completed"
    },
    "tags": []
   },
   "source": [
    " <i> Visualisation related to \"Contact, Month and Day of the week\" </i>"
   ]
  },
  {
   "cell_type": "code",
   "execution_count": 18,
   "metadata": {
    "papermill": {
     "duration": 0.385816,
     "end_time": "2020-11-29T19:03:25.130588",
     "exception": false,
     "start_time": "2020-11-29T19:03:24.744772",
     "status": "completed"
    },
    "tags": []
   },
   "outputs": [
    {
     "name": "stderr",
     "output_type": "stream",
     "text": [
      "/Users/clause/Anaconda/anaconda3/envs/ML/lib/python3.8/site-packages/seaborn/_decorators.py:36: FutureWarning: Pass the following variable as a keyword arg: x. From version 0.12, the only valid positional argument will be `data`, and passing other arguments without an explicit keyword will result in an error or misinterpretation.\n",
      "  warnings.warn(\n"
     ]
    },
    {
     "data": {
      "text/plain": [
       "Text(0.5, 1.0, 'Count of Calls made on Days of the week')"
      ]
     },
     "execution_count": 18,
     "metadata": {},
     "output_type": "execute_result"
    },
    {
     "data": {
      "image/png": "[encoded data removed]",
      "text/plain": [
       "<Figure size 1080x360 with 2 Axes>"
      ]
     },
     "metadata": {
      "needs_background": "light"
     },
     "output_type": "display_data"
    }
   ],
   "source": [
    "# For contact and Days of the week\n",
    "fig, (ax1, ax2) = plt.subplots(nrows = 1, ncols = 2, figsize = (15, 5))\n",
    "\n",
    "sns.countplot(x = 'contact', data = df, ax = ax1)\n",
    "ax1.set_xlabel(\"Contact Method\")\n",
    "ax1.set_ylabel(\"Count\")\n",
    "ax1.set_title(\"Count of Contact Methods\")\n",
    "\n",
    "sns.countplot(df['day'], ax = ax2)\n",
    "ax2.set_xlabel(\"Days of the week\")\n",
    "ax2.set_ylabel(\"Count\")\n",
    "ax2.set_title(\"Count of Calls made on Days of the week\")\n"
   ]
  },
  {
   "cell_type": "code",
   "execution_count": 19,
   "metadata": {
    "papermill": {
     "duration": 0.295383,
     "end_time": "2020-11-29T19:03:25.489708",
     "exception": false,
     "start_time": "2020-11-29T19:03:25.194325",
     "status": "completed"
    },
    "tags": []
   },
   "outputs": [
    {
     "data": {
      "text/plain": [
       "Text(0.5, 1.0, 'Count of contacts made in each month')"
      ]
     },
     "execution_count": 19,
     "metadata": {},
     "output_type": "execute_result"
    },
    {
     "data": {
      "image/png": "[encoded data removed]",
      "text/plain": [
       "<Figure size 1080x360 with 1 Axes>"
      ]
     },
     "metadata": {
      "needs_background": "light"
     },
     "output_type": "display_data"
    }
   ],
   "source": [
    "# For Months\n",
    "fig, ax = plt.subplots(figsize = (15, 5))\n",
    "sns.countplot(x = 'month', data = df, order = ['mar', 'apr', 'may', 'jun', 'jul', 'aug', 'sep', 'oct', 'nov', 'dec'])\n",
    "ax.set_xlabel(\"Months\")\n",
    "ax.set_ylabel(\"Count\")\n",
    "ax.set_title(\"Count of contacts made in each month\")"
   ]
  },
  {
   "cell_type": "markdown",
   "metadata": {
    "papermill": {
     "duration": 0.065673,
     "end_time": "2020-11-29T19:03:25.620790",
     "exception": false,
     "start_time": "2020-11-29T19:03:25.555117",
     "status": "completed"
    },
    "tags": []
   },
   "source": [
    "*Checking if there exists a relation between  Duration of call and Jobs*"
   ]
  },
  {
   "cell_type": "code",
   "execution_count": 20,
   "metadata": {
    "papermill": {
     "duration": 1.091998,
     "end_time": "2020-11-29T19:03:26.829141",
     "exception": false,
     "start_time": "2020-11-29T19:03:25.737143",
     "status": "completed"
    },
    "tags": []
   },
   "outputs": [
    {
     "data": {
      "text/plain": [
       "Text(0.5, 1.0, 'log(Duration) vs Jobs')"
      ]
     },
     "execution_count": 20,
     "metadata": {},
     "output_type": "execute_result"
    },
    {
     "data": {
      "image/png": "[encoded data removed]",
      "text/plain": [
       "<Figure size 1080x360 with 1 Axes>"
      ]
     },
     "metadata": {
      "needs_background": "light"
     },
     "output_type": "display_data"
    }
   ],
   "source": [
    "fig, ax = plt.subplots(figsize = (15, 5))\n",
    "sns.boxplot(x = \"job\", y = \"duration\", data = df, orient = 'v')\n",
    "ax.set_xlabel(\"Jobs\")\n",
    "ax.set_ylabel(\"Duration\")\n",
    "ax.set_yscale(\"log\")\n",
    "ax.set_title(\"log(Duration) vs Jobs\")"
   ]
  },
  {
   "cell_type": "markdown",
   "metadata": {
    "papermill": {
     "duration": 0.067822,
     "end_time": "2020-11-29T19:03:26.963860",
     "exception": false,
     "start_time": "2020-11-29T19:03:26.896038",
     "status": "completed"
    },
    "tags": []
   },
   "source": [
    "*Checking if there is a relation between average duration of call and eduacation *"
   ]
  },
  {
   "cell_type": "code",
   "execution_count": 21,
   "metadata": {
    "papermill": {
     "duration": 0.698422,
     "end_time": "2020-11-29T19:03:27.730913",
     "exception": false,
     "start_time": "2020-11-29T19:03:27.032491",
     "status": "completed"
    },
    "tags": []
   },
   "outputs": [
    {
     "data": {
      "text/plain": [
       "Text(0.5, 1.0, 'log(Duration) vs Education')"
      ]
     },
     "execution_count": 21,
     "metadata": {},
     "output_type": "execute_result"
    },
    {
     "data": {
      "image/png": "[encoded data removed]",
      "text/plain": [
       "<Figure size 1080x360 with 1 Axes>"
      ]
     },
     "metadata": {
      "needs_background": "light"
     },
     "output_type": "display_data"
    }
   ],
   "source": [
    "fig, ax = plt.subplots(figsize = (15, 5))\n",
    "sns.boxplot(x = \"education\", y = \"duration\", data = df, orient = 'v')\n",
    "ax.set_xlabel(\"Education\")\n",
    "ax.set_ylabel(\"Duration\")\n",
    "ax.set_yscale(\"log\")\n",
    "ax.set_title(\"log(Duration) vs Education\")"
   ]
  },
  {
   "cell_type": "markdown",
   "metadata": {
    "papermill": {
     "duration": 0.069473,
     "end_time": "2020-11-29T19:03:27.869978",
     "exception": false,
     "start_time": "2020-11-29T19:03:27.800505",
     "status": "completed"
    },
    "tags": []
   },
   "source": [
    "From the above graph we can observe that the average duration of call is less with illiterates. "
   ]
  },
  {
   "cell_type": "markdown",
   "metadata": {
    "papermill": {
     "duration": 0.06822,
     "end_time": "2020-11-29T19:03:28.008490",
     "exception": false,
     "start_time": "2020-11-29T19:03:27.940270",
     "status": "completed"
    },
    "tags": []
   },
   "source": [
    "## 2. Categorical Treatment"
   ]
  },
  {
   "cell_type": "markdown",
   "metadata": {
    "papermill": {
     "duration": 0.068394,
     "end_time": "2020-11-29T19:03:28.146419",
     "exception": false,
     "start_time": "2020-11-29T19:03:28.078025",
     "status": "completed"
    },
    "tags": []
   },
   "source": [
    "*Different categorial features and there values in the dataset are:*"
   ]
  },
  {
   "cell_type": "code",
   "execution_count": 22,
   "metadata": {
    "papermill": {
     "duration": 0.129245,
     "end_time": "2020-11-29T19:03:28.343504",
     "exception": false,
     "start_time": "2020-11-29T19:03:28.214259",
     "status": "completed"
    },
    "tags": []
   },
   "outputs": [
    {
     "name": "stdout",
     "output_type": "stream",
     "text": [
      "Jobs: \n",
      " ['management' 'technician' 'entrepreneur' 'blue-collar' 'unknown'\n",
      " 'retired' 'admin.' 'services' 'self-employed' 'unemployed' 'housemaid'\n",
      " 'student'] \n",
      "\n",
      "Marital Status: \n",
      " ['married' 'single' 'divorced'] \n",
      "\n",
      "Education: \n",
      " ['tertiary' 'secondary' 'unknown' 'primary'] \n",
      "\n",
      "Default on Credit: \n",
      " ['no' 'yes'] \n",
      "\n",
      "Housing loan: \n",
      " ['yes' 'no'] \n",
      "\n",
      "Loan default: \n",
      " ['no' 'yes'] \n",
      "\n",
      "Contact type: \n",
      " ['unknown' 'cellular' 'telephone'] \n",
      "\n",
      "Months: \n",
      " ['may' 'jun' 'jul' 'aug' 'oct' 'nov' 'dec' 'jan' 'feb' 'mar' 'apr' 'sep'] \n",
      "\n",
      "day: \n",
      " [ 5  6  7  8  9 12 13 14 15 16 19 20 21 23 26 27 28 29 30  2  3  4 11 17\n",
      " 18 24 25  1 10 22 31] \n",
      "\n",
      "Poutcome: \n",
      " ['unknown' 'failure' 'other' 'success'] \n",
      "\n"
     ]
    }
   ],
   "source": [
    "print(\"Jobs: \\n\", df[\"job\"].unique(),'\\n')\n",
    "print(\"Marital Status: \\n\", df['marital'].unique(),'\\n')\n",
    "print(\"Education: \\n\", df['education'].unique(),'\\n')\n",
    "print(\"Default on Credit: \\n\", df['default'].unique(),'\\n')\n",
    "print(\"Housing loan: \\n\", df['housing'].unique(),'\\n')\n",
    "print(\"Loan default: \\n\", df['loan'].unique(),'\\n')\n",
    "print(\"Contact type: \\n\", df['contact'].unique(),'\\n')\n",
    "print(\"Months: \\n\", df['month'].unique(),'\\n')\n",
    "print(\"day: \\n\", df['day'].unique(),'\\n')\n",
    "print(\"Poutcome: \\n\",df[\"poutcome\"].unique(),'\\n')"
   ]
  },
  {
   "cell_type": "markdown",
   "metadata": {
    "papermill": {
     "duration": 0.081041,
     "end_time": "2020-11-29T19:03:28.509027",
     "exception": false,
     "start_time": "2020-11-29T19:03:28.427986",
     "status": "completed"
    },
    "tags": []
   },
   "source": [
    "#### Creating label encoders to treat all categorical variables"
   ]
  },
  {
   "cell_type": "code",
   "execution_count": 23,
   "metadata": {
    "papermill": {
     "duration": 0.077592,
     "end_time": "2020-11-29T19:03:28.659017",
     "exception": false,
     "start_time": "2020-11-29T19:03:28.581425",
     "status": "completed"
    },
    "tags": []
   },
   "outputs": [],
   "source": [
    "labelencoder_X = LabelEncoder()"
   ]
  },
  {
   "cell_type": "code",
   "execution_count": 24,
   "metadata": {
    "papermill": {
     "duration": 0.262227,
     "end_time": "2020-11-29T19:03:28.991084",
     "exception": false,
     "start_time": "2020-11-29T19:03:28.728857",
     "status": "completed"
    },
    "tags": []
   },
   "outputs": [],
   "source": [
    "df[\"job\"] = labelencoder_X.fit_transform(df[\"job\"])\n",
    "df[\"marital\"] = labelencoder_X.fit_transform(df[\"marital\"])\n",
    "df[\"education\"] = labelencoder_X.fit_transform(df[\"education\"])\n",
    "df[\"default\"] = labelencoder_X.fit_transform(df[\"default\"])\n",
    "df[\"housing\"] = labelencoder_X.fit_transform(df[\"housing\"])\n",
    "df[\"loan\"] = labelencoder_X.fit_transform(df[\"loan\"])\n",
    "df[\"contact\"] = labelencoder_X.fit_transform(df[\"contact\"])\n",
    "df[\"month\"] = labelencoder_X.fit_transform(df[\"month\"])\n",
    "df[\"day\"] = labelencoder_X.fit_transform(df[\"day\"])\n",
    "df[\"poutcome\"] = labelencoder_X.fit_transform(df[\"poutcome\"])"
   ]
  },
  {
   "cell_type": "code",
   "execution_count": 25,
   "metadata": {
    "papermill": {
     "duration": 0.101722,
     "end_time": "2020-11-29T19:03:29.166496",
     "exception": false,
     "start_time": "2020-11-29T19:03:29.064774",
     "status": "completed"
    },
    "tags": []
   },
   "outputs": [
    {
     "data": {
      "text/html": [
       "<div>\n",
       "<style scoped>\n",
       "    .dataframe tbody tr th:only-of-type {\n",
       "        vertical-align: middle;\n",
       "    }\n",
       "\n",
       "    .dataframe tbody tr th {\n",
       "        vertical-align: top;\n",
       "    }\n",
       "\n",
       "    .dataframe thead th {\n",
       "        text-align: right;\n",
       "    }\n",
       "</style>\n",
       "<table border=\"1\" class=\"dataframe\">\n",
       "  <thead>\n",
       "    <tr style=\"text-align: right;\">\n",
       "      <th></th>\n",
       "      <th>age</th>\n",
       "      <th>job</th>\n",
       "      <th>marital</th>\n",
       "      <th>education</th>\n",
       "      <th>default</th>\n",
       "      <th>balance</th>\n",
       "      <th>housing</th>\n",
       "      <th>loan</th>\n",
       "      <th>contact</th>\n",
       "      <th>day</th>\n",
       "      <th>month</th>\n",
       "      <th>duration</th>\n",
       "      <th>campaign</th>\n",
       "      <th>pdays</th>\n",
       "      <th>previous</th>\n",
       "      <th>poutcome</th>\n",
       "    </tr>\n",
       "  </thead>\n",
       "  <tbody>\n",
       "    <tr>\n",
       "      <th>0</th>\n",
       "      <td>58</td>\n",
       "      <td>4</td>\n",
       "      <td>1</td>\n",
       "      <td>2</td>\n",
       "      <td>0</td>\n",
       "      <td>2143</td>\n",
       "      <td>1</td>\n",
       "      <td>0</td>\n",
       "      <td>2</td>\n",
       "      <td>4</td>\n",
       "      <td>8</td>\n",
       "      <td>261</td>\n",
       "      <td>1</td>\n",
       "      <td>-1</td>\n",
       "      <td>0</td>\n",
       "      <td>3</td>\n",
       "    </tr>\n",
       "    <tr>\n",
       "      <th>1</th>\n",
       "      <td>44</td>\n",
       "      <td>9</td>\n",
       "      <td>2</td>\n",
       "      <td>1</td>\n",
       "      <td>0</td>\n",
       "      <td>29</td>\n",
       "      <td>1</td>\n",
       "      <td>0</td>\n",
       "      <td>2</td>\n",
       "      <td>4</td>\n",
       "      <td>8</td>\n",
       "      <td>151</td>\n",
       "      <td>1</td>\n",
       "      <td>-1</td>\n",
       "      <td>0</td>\n",
       "      <td>3</td>\n",
       "    </tr>\n",
       "    <tr>\n",
       "      <th>2</th>\n",
       "      <td>33</td>\n",
       "      <td>2</td>\n",
       "      <td>1</td>\n",
       "      <td>1</td>\n",
       "      <td>0</td>\n",
       "      <td>2</td>\n",
       "      <td>1</td>\n",
       "      <td>1</td>\n",
       "      <td>2</td>\n",
       "      <td>4</td>\n",
       "      <td>8</td>\n",
       "      <td>76</td>\n",
       "      <td>1</td>\n",
       "      <td>-1</td>\n",
       "      <td>0</td>\n",
       "      <td>3</td>\n",
       "    </tr>\n",
       "    <tr>\n",
       "      <th>3</th>\n",
       "      <td>47</td>\n",
       "      <td>1</td>\n",
       "      <td>1</td>\n",
       "      <td>3</td>\n",
       "      <td>0</td>\n",
       "      <td>1506</td>\n",
       "      <td>1</td>\n",
       "      <td>0</td>\n",
       "      <td>2</td>\n",
       "      <td>4</td>\n",
       "      <td>8</td>\n",
       "      <td>92</td>\n",
       "      <td>1</td>\n",
       "      <td>-1</td>\n",
       "      <td>0</td>\n",
       "      <td>3</td>\n",
       "    </tr>\n",
       "    <tr>\n",
       "      <th>4</th>\n",
       "      <td>33</td>\n",
       "      <td>11</td>\n",
       "      <td>2</td>\n",
       "      <td>3</td>\n",
       "      <td>0</td>\n",
       "      <td>1</td>\n",
       "      <td>0</td>\n",
       "      <td>0</td>\n",
       "      <td>2</td>\n",
       "      <td>4</td>\n",
       "      <td>8</td>\n",
       "      <td>198</td>\n",
       "      <td>1</td>\n",
       "      <td>-1</td>\n",
       "      <td>0</td>\n",
       "      <td>3</td>\n",
       "    </tr>\n",
       "  </tbody>\n",
       "</table>\n",
       "</div>"
      ],
      "text/plain": [
       "   age  job  marital  education  default  balance  housing  loan  contact  \\\n",
       "0   58    4        1          2        0     2143        1     0        2   \n",
       "1   44    9        2          1        0       29        1     0        2   \n",
       "2   33    2        1          1        0        2        1     1        2   \n",
       "3   47    1        1          3        0     1506        1     0        2   \n",
       "4   33   11        2          3        0        1        0     0        2   \n",
       "\n",
       "   day  month  duration  campaign  pdays  previous  poutcome  \n",
       "0    4      8       261         1     -1         0         3  \n",
       "1    4      8       151         1     -1         0         3  \n",
       "2    4      8        76         1     -1         0         3  \n",
       "3    4      8        92         1     -1         0         3  \n",
       "4    4      8       198         1     -1         0         3  "
      ]
     },
     "execution_count": 25,
     "metadata": {},
     "output_type": "execute_result"
    }
   ],
   "source": [
    "# For dataframes to display all the columns in the output\n",
    "pd.set_option('max_columns', None)\n",
    "df.head()"
   ]
  },
  {
   "cell_type": "code",
   "execution_count": 26,
   "metadata": {
    "papermill": {
     "duration": 0.080213,
     "end_time": "2020-11-29T19:03:29.316823",
     "exception": false,
     "start_time": "2020-11-29T19:03:29.236610",
     "status": "completed"
    },
    "tags": []
   },
   "outputs": [],
   "source": [
    "df['y'] = Y"
   ]
  },
  {
   "cell_type": "markdown",
   "metadata": {
    "papermill": {
     "duration": 0.070594,
     "end_time": "2020-11-29T19:03:29.458464",
     "exception": false,
     "start_time": "2020-11-29T19:03:29.387870",
     "status": "completed"
    },
    "tags": []
   },
   "source": [
    "## 3. Undersampling and Feature Engineering"
   ]
  },
  {
   "cell_type": "markdown",
   "metadata": {
    "papermill": {
     "duration": 0.070389,
     "end_time": "2020-11-29T19:03:29.599627",
     "exception": false,
     "start_time": "2020-11-29T19:03:29.529238",
     "status": "completed"
    },
    "tags": []
   },
   "source": [
    "##### 3.1 Undersampling"
   ]
  },
  {
   "cell_type": "code",
   "execution_count": 27,
   "metadata": {
    "papermill": {
     "duration": 0.091276,
     "end_time": "2020-11-29T19:03:29.761084",
     "exception": false,
     "start_time": "2020-11-29T19:03:29.669808",
     "status": "completed"
    },
    "tags": []
   },
   "outputs": [
    {
     "data": {
      "text/plain": [
       "(5289, 17)"
      ]
     },
     "execution_count": 27,
     "metadata": {},
     "output_type": "execute_result"
    }
   ],
   "source": [
    "df[df['y'] == 1].shape"
   ]
  },
  {
   "cell_type": "markdown",
   "metadata": {
    "papermill": {
     "duration": 0.070142,
     "end_time": "2020-11-29T19:03:29.902228",
     "exception": false,
     "start_time": "2020-11-29T19:03:29.832086",
     "status": "completed"
    },
    "tags": []
   },
   "source": [
    "From the above output we can see that out of 41k odd entries, we have only 4640 positive instances. Out data is imballenced.\n",
    "\n",
    "#### Dealing with imballenced dataset\n",
    "\n",
    "We can see that the data is imballenced so the output of the model will be biased. One way to move forward is:\n",
    "1. Undersample the data\n",
    "2. Oversample the data"
   ]
  },
  {
   "cell_type": "code",
   "execution_count": 28,
   "metadata": {
    "papermill": {
     "duration": 0.082869,
     "end_time": "2020-11-29T19:03:30.056552",
     "exception": false,
     "start_time": "2020-11-29T19:03:29.973683",
     "status": "completed"
    },
    "tags": []
   },
   "outputs": [],
   "source": [
    "# There are three types of undersample that we can use. I will be using version 3 for undersampling\n",
    "undersample = NearMiss(version=3)"
   ]
  },
  {
   "cell_type": "code",
   "execution_count": 29,
   "metadata": {
    "papermill": {
     "duration": 0.086168,
     "end_time": "2020-11-29T19:03:30.216549",
     "exception": false,
     "start_time": "2020-11-29T19:03:30.130381",
     "status": "completed"
    },
    "tags": []
   },
   "outputs": [],
   "source": [
    "# Preparing the dataframe to be fed into undersample\n",
    "df_x = df.iloc[:,:-1]\n",
    "df_y = df['y']"
   ]
  },
  {
   "cell_type": "code",
   "execution_count": 30,
   "metadata": {
    "papermill": {
     "duration": 0.88918,
     "end_time": "2020-11-29T19:03:31.177994",
     "exception": false,
     "start_time": "2020-11-29T19:03:30.288814",
     "status": "completed"
    },
    "tags": []
   },
   "outputs": [],
   "source": [
    "# Getting out new data\n",
    "X, y = undersample.fit_resample(df_x, df_y)"
   ]
  },
  {
   "cell_type": "code",
   "execution_count": 31,
   "metadata": {
    "papermill": {
     "duration": 0.09999,
     "end_time": "2020-11-29T19:03:31.349357",
     "exception": false,
     "start_time": "2020-11-29T19:03:31.249367",
     "status": "completed"
    },
    "tags": []
   },
   "outputs": [
    {
     "data": {
      "text/html": [
       "<div>\n",
       "<style scoped>\n",
       "    .dataframe tbody tr th:only-of-type {\n",
       "        vertical-align: middle;\n",
       "    }\n",
       "\n",
       "    .dataframe tbody tr th {\n",
       "        vertical-align: top;\n",
       "    }\n",
       "\n",
       "    .dataframe thead th {\n",
       "        text-align: right;\n",
       "    }\n",
       "</style>\n",
       "<table border=\"1\" class=\"dataframe\">\n",
       "  <thead>\n",
       "    <tr style=\"text-align: right;\">\n",
       "      <th></th>\n",
       "      <th>age</th>\n",
       "      <th>job</th>\n",
       "      <th>marital</th>\n",
       "      <th>education</th>\n",
       "      <th>default</th>\n",
       "      <th>balance</th>\n",
       "      <th>housing</th>\n",
       "      <th>loan</th>\n",
       "      <th>contact</th>\n",
       "      <th>day</th>\n",
       "      <th>month</th>\n",
       "      <th>duration</th>\n",
       "      <th>campaign</th>\n",
       "      <th>pdays</th>\n",
       "      <th>previous</th>\n",
       "      <th>poutcome</th>\n",
       "      <th>y</th>\n",
       "    </tr>\n",
       "  </thead>\n",
       "  <tbody>\n",
       "    <tr>\n",
       "      <th>0</th>\n",
       "      <td>56</td>\n",
       "      <td>4</td>\n",
       "      <td>0</td>\n",
       "      <td>2</td>\n",
       "      <td>0</td>\n",
       "      <td>66721</td>\n",
       "      <td>0</td>\n",
       "      <td>0</td>\n",
       "      <td>0</td>\n",
       "      <td>7</td>\n",
       "      <td>1</td>\n",
       "      <td>442</td>\n",
       "      <td>2</td>\n",
       "      <td>-1</td>\n",
       "      <td>0</td>\n",
       "      <td>3</td>\n",
       "      <td>0</td>\n",
       "    </tr>\n",
       "    <tr>\n",
       "      <th>1</th>\n",
       "      <td>52</td>\n",
       "      <td>1</td>\n",
       "      <td>1</td>\n",
       "      <td>0</td>\n",
       "      <td>0</td>\n",
       "      <td>66653</td>\n",
       "      <td>0</td>\n",
       "      <td>0</td>\n",
       "      <td>0</td>\n",
       "      <td>13</td>\n",
       "      <td>1</td>\n",
       "      <td>109</td>\n",
       "      <td>3</td>\n",
       "      <td>-1</td>\n",
       "      <td>0</td>\n",
       "      <td>3</td>\n",
       "      <td>0</td>\n",
       "    </tr>\n",
       "    <tr>\n",
       "      <th>2</th>\n",
       "      <td>60</td>\n",
       "      <td>5</td>\n",
       "      <td>1</td>\n",
       "      <td>0</td>\n",
       "      <td>0</td>\n",
       "      <td>71188</td>\n",
       "      <td>0</td>\n",
       "      <td>0</td>\n",
       "      <td>0</td>\n",
       "      <td>5</td>\n",
       "      <td>10</td>\n",
       "      <td>205</td>\n",
       "      <td>1</td>\n",
       "      <td>-1</td>\n",
       "      <td>0</td>\n",
       "      <td>3</td>\n",
       "      <td>0</td>\n",
       "    </tr>\n",
       "    <tr>\n",
       "      <th>3</th>\n",
       "      <td>59</td>\n",
       "      <td>10</td>\n",
       "      <td>0</td>\n",
       "      <td>1</td>\n",
       "      <td>0</td>\n",
       "      <td>44134</td>\n",
       "      <td>0</td>\n",
       "      <td>0</td>\n",
       "      <td>0</td>\n",
       "      <td>2</td>\n",
       "      <td>3</td>\n",
       "      <td>117</td>\n",
       "      <td>1</td>\n",
       "      <td>-1</td>\n",
       "      <td>0</td>\n",
       "      <td>3</td>\n",
       "      <td>0</td>\n",
       "    </tr>\n",
       "    <tr>\n",
       "      <th>4</th>\n",
       "      <td>59</td>\n",
       "      <td>3</td>\n",
       "      <td>0</td>\n",
       "      <td>1</td>\n",
       "      <td>0</td>\n",
       "      <td>45141</td>\n",
       "      <td>0</td>\n",
       "      <td>0</td>\n",
       "      <td>2</td>\n",
       "      <td>5</td>\n",
       "      <td>6</td>\n",
       "      <td>42</td>\n",
       "      <td>1</td>\n",
       "      <td>-1</td>\n",
       "      <td>0</td>\n",
       "      <td>3</td>\n",
       "      <td>0</td>\n",
       "    </tr>\n",
       "  </tbody>\n",
       "</table>\n",
       "</div>"
      ],
      "text/plain": [
       "   age  job  marital  education  default  balance  housing  loan  contact  \\\n",
       "0   56    4        0          2        0    66721        0     0        0   \n",
       "1   52    1        1          0        0    66653        0     0        0   \n",
       "2   60    5        1          0        0    71188        0     0        0   \n",
       "3   59   10        0          1        0    44134        0     0        0   \n",
       "4   59    3        0          1        0    45141        0     0        2   \n",
       "\n",
       "   day  month  duration  campaign  pdays  previous  poutcome  y  \n",
       "0    7      1       442         2     -1         0         3  0  \n",
       "1   13      1       109         3     -1         0         3  0  \n",
       "2    5     10       205         1     -1         0         3  0  \n",
       "3    2      3       117         1     -1         0         3  0  \n",
       "4    5      6        42         1     -1         0         3  0  "
      ]
     },
     "execution_count": 31,
     "metadata": {},
     "output_type": "execute_result"
    }
   ],
   "source": [
    "# Adding output column back to X to perform feature selection\n",
    "X['y'] = y\n",
    "X.head()"
   ]
  },
  {
   "cell_type": "markdown",
   "metadata": {
    "papermill": {
     "duration": 0.071869,
     "end_time": "2020-11-29T19:03:31.493878",
     "exception": false,
     "start_time": "2020-11-29T19:03:31.422009",
     "status": "completed"
    },
    "tags": []
   },
   "source": [
    "##### 3.2 Feature Selection"
   ]
  },
  {
   "cell_type": "code",
   "execution_count": 32,
   "metadata": {
    "papermill": {
     "duration": 1.326122,
     "end_time": "2020-11-29T19:03:32.892547",
     "exception": false,
     "start_time": "2020-11-29T19:03:31.566425",
     "status": "completed"
    },
    "tags": []
   },
   "outputs": [
    {
     "data": {
      "text/plain": [
       "<AxesSubplot:>"
      ]
     },
     "execution_count": 32,
     "metadata": {},
     "output_type": "execute_result"
    },
    {
     "data": {
      "image/png": "[encoded data removed]",
      "text/plain": [
       "<Figure size 1440x720 with 2 Axes>"
      ]
     },
     "metadata": {
      "needs_background": "light"
     },
     "output_type": "display_data"
    }
   ],
   "source": [
    "# Generate correlation matrix heat map to check which feature has greatest influence on the output \n",
    "fig, ax = plt.subplots(figsize = (20, 10))\n",
    "matrix = np.triu(X.corr())\n",
    "sns.heatmap(df.corr(), annot=True, fmt='.1f', vmin=-1, vmax=1, center= 0, cmap= 'coolwarm', mask=matrix)"
   ]
  },
  {
   "cell_type": "markdown",
   "metadata": {
    "papermill": {
     "duration": 0.078607,
     "end_time": "2020-11-29T19:03:33.048529",
     "exception": false,
     "start_time": "2020-11-29T19:03:32.969922",
     "status": "completed"
    },
    "tags": []
   },
   "source": [
    "Output has a good correlation with duration, pdays, emp.var.rate, euribor3m and nr.employed. Therefore they might form a very good features compared to others.\n",
    "We should also note that emp.var.rate has a high correlation with nr.employed, euribor3m and cons.price.idx. So we might need to consider this while selecting our features."
   ]
  },
  {
   "cell_type": "markdown",
   "metadata": {
    "papermill": {
     "duration": 0.076068,
     "end_time": "2020-11-29T19:03:33.203235",
     "exception": false,
     "start_time": "2020-11-29T19:03:33.127167",
     "status": "completed"
    },
    "tags": []
   },
   "source": [
    "##### For Categorical features:"
   ]
  },
  {
   "cell_type": "code",
   "execution_count": 33,
   "metadata": {
    "papermill": {
     "duration": 0.123701,
     "end_time": "2020-11-29T19:03:33.403487",
     "exception": false,
     "start_time": "2020-11-29T19:03:33.279786",
     "status": "completed"
    },
    "tags": []
   },
   "outputs": [
    {
     "name": "stdout",
     "output_type": "stream",
     "text": [
      "Results for categorical variable job is:\n",
      "\n",
      "job\n",
      "0     0.537937\n",
      "1     0.384156\n",
      "2     0.412752\n",
      "3     0.437751\n",
      "4     0.526934\n",
      "5     0.611374\n",
      "6     0.475827\n",
      "7     0.458955\n",
      "8     0.747222\n",
      "9     0.489225\n",
      "10    0.570621\n",
      "11    0.459459\n",
      "Name: y, dtype: float64\n",
      "Results for categorical variable marital is:\n",
      "\n",
      "marital\n",
      "0    0.520502\n",
      "1    0.458861\n",
      "2    0.565848\n",
      "Name: y, dtype: float64\n",
      "Results for categorical variable education is:\n",
      "\n",
      "education\n",
      "0    0.433602\n",
      "1    0.482664\n",
      "2    0.544909\n",
      "3    0.529412\n",
      "Name: y, dtype: float64\n",
      "Results for categorical variable default is:\n",
      "\n",
      "default\n",
      "0    0.499857\n",
      "1    0.514851\n",
      "Name: y, dtype: float64\n",
      "Results for categorical variable housing is:\n",
      "\n",
      "housing\n",
      "0    0.606181\n",
      "1    0.383548\n",
      "Name: y, dtype: float64\n",
      "Results for categorical variable loan is:\n",
      "\n",
      "loan\n",
      "0    0.511769\n",
      "1    0.407065\n",
      "Name: y, dtype: float64\n",
      "Results for categorical variable contact is:\n",
      "\n",
      "contact\n",
      "0    0.536600\n",
      "1    0.530612\n",
      "2    0.311581\n",
      "Name: y, dtype: float64\n",
      "Results for categorical variable month is:\n",
      "\n",
      "month\n",
      "0     0.516562\n",
      "1     0.563473\n",
      "2     0.757576\n",
      "3     0.567568\n",
      "4     0.412791\n",
      "5     0.543799\n",
      "6     0.496815\n",
      "7     0.843537\n",
      "8     0.380972\n",
      "9     0.331960\n",
      "10    0.732426\n",
      "11    0.751397\n",
      "Name: y, dtype: float64\n",
      "Results for categorical variable day is:\n",
      "\n",
      "day\n",
      "0     0.600000\n",
      "1     0.511236\n",
      "2     0.546012\n",
      "3     0.573566\n",
      "4     0.501166\n",
      "5     0.468912\n",
      "6     0.438547\n",
      "7     0.533156\n",
      "8     0.547401\n",
      "9     0.703488\n",
      "10    0.473822\n",
      "11    0.529284\n",
      "12    0.522777\n",
      "13    0.486111\n",
      "14    0.524229\n",
      "15    0.543909\n",
      "16    0.366667\n",
      "17    0.428571\n",
      "18    0.315245\n",
      "19    0.325976\n",
      "20    0.439825\n",
      "21    0.729858\n",
      "22    0.588785\n",
      "23    0.500000\n",
      "24    0.665000\n",
      "25    0.585859\n",
      "26    0.666667\n",
      "27    0.494810\n",
      "28    0.410828\n",
      "29    0.610360\n",
      "30    0.516854\n",
      "Name: y, dtype: float64\n",
      "Results for categorical variable poutcome is:\n",
      "\n",
      "poutcome\n",
      "0    0.296973\n",
      "1    0.384712\n",
      "2    0.787440\n",
      "3    0.524392\n",
      "Name: y, dtype: float64\n"
     ]
    }
   ],
   "source": [
    "# Checking to see if any categorical variables have direct relationship with y\n",
    "\n",
    "for i in [\"job\",\"marital\",\"education\",\"default\",\"housing\",\"loan\",\"contact\",\"month\",\"day\",\"poutcome\"]:\n",
    "    print(\"Results for categorical variable {} is:\\n\".format(i))\n",
    "    print(X.groupby(i)['y'].mean())"
   ]
  },
  {
   "cell_type": "markdown",
   "metadata": {
    "papermill": {
     "duration": 0.076249,
     "end_time": "2020-11-29T19:03:33.557479",
     "exception": false,
     "start_time": "2020-11-29T19:03:33.481230",
     "status": "completed"
    },
    "tags": []
   },
   "source": [
    "From the above output we cant come to any conclusion but one thing we can observe is that in poutcome, when the value is '2', there is 72.5% positive outcome. "
   ]
  },
  {
   "cell_type": "markdown",
   "metadata": {
    "papermill": {
     "duration": 0.07605,
     "end_time": "2020-11-29T19:03:33.710486",
     "exception": false,
     "start_time": "2020-11-29T19:03:33.634436",
     "status": "completed"
    },
    "tags": []
   },
   "source": [
    "##### Lets check categorical plot for categorical features."
   ]
  },
  {
   "cell_type": "code",
   "execution_count": 34,
   "metadata": {
    "papermill": {
     "duration": 4.918037,
     "end_time": "2020-11-29T19:03:38.705211",
     "exception": false,
     "start_time": "2020-11-29T19:03:33.787174",
     "status": "completed"
    },
    "tags": []
   },
   "outputs": [
    {
     "data": {
      "image/png": "[encoded data removed]",
      "text/plain": [
       "<Figure size 720x360 with 1 Axes>"
      ]
     },
     "metadata": {
      "needs_background": "light"
     },
     "output_type": "display_data"
    },
    {
     "data": {
      "image/png": "[encoded data removed]",
      "text/plain": [
       "<Figure size 720x360 with 1 Axes>"
      ]
     },
     "metadata": {
      "needs_background": "light"
     },
     "output_type": "display_data"
    },
    {
     "data": {
      "image/png": "[encoded data removed]",
      "text/plain": [
       "<Figure size 720x360 with 1 Axes>"
      ]
     },
     "metadata": {
      "needs_background": "light"
     },
     "output_type": "display_data"
    },
    {
     "data": {
      "image/png": "[encoded data removed]",
      "text/plain": [
       "<Figure size 720x360 with 1 Axes>"
      ]
     },
     "metadata": {
      "needs_background": "light"
     },
     "output_type": "display_data"
    },
    {
     "data": {
      "image/png": "[encoded data removed]",
      "text/plain": [
       "<Figure size 720x360 with 1 Axes>"
      ]
     },
     "metadata": {
      "needs_background": "light"
     },
     "output_type": "display_data"
    },
    {
     "data": {
      "image/png": "[encoded data removed]",
      "text/plain": [
       "<Figure size 720x360 with 1 Axes>"
      ]
     },
     "metadata": {
      "needs_background": "light"
     },
     "output_type": "display_data"
    },
    {
     "data": {
      "image/png": "[encoded data removed]",
      "text/plain": [
       "<Figure size 720x360 with 1 Axes>"
      ]
     },
     "metadata": {
      "needs_background": "light"
     },
     "output_type": "display_data"
    },
    {
     "data": {
      "image/png": "[encoded data removed]",
      "text/plain": [
       "<Figure size 720x360 with 1 Axes>"
      ]
     },
     "metadata": {
      "needs_background": "light"
     },
     "output_type": "display_data"
    },
    {
     "data": {
      "image/png": "[encoded data removed]",
      "text/plain": [
       "<Figure size 720x360 with 1 Axes>"
      ]
     },
     "metadata": {
      "needs_background": "light"
     },
     "output_type": "display_data"
    },
    {
     "data": {
      "image/png": "[encoded data removed]",
      "text/plain": [
       "<Figure size 720x360 with 1 Axes>"
      ]
     },
     "metadata": {
      "needs_background": "light"
     },
     "output_type": "display_data"
    }
   ],
   "source": [
    "# Generate categorical plots for features\n",
    "for col in [\"job\",\"marital\",\"education\",\"default\",\"housing\",\"loan\",\"contact\",\"month\",\"day\",\"poutcome\"]:\n",
    "    sns.catplot(x=col, y='y', data=X, kind='point', aspect=2, )\n",
    "    plt.ylim(0, 1)"
   ]
  },
  {
   "cell_type": "markdown",
   "metadata": {
    "papermill": {
     "duration": 0.086362,
     "end_time": "2020-11-29T19:03:38.878144",
     "exception": false,
     "start_time": "2020-11-29T19:03:38.791782",
     "status": "completed"
    },
    "tags": []
   },
   "source": [
    "From the above graphs we can see that Housing and loan remains almost constant and dont have much if an effect. So probably we can elemenate them. Lets perform statistical tests to determine that."
   ]
  },
  {
   "cell_type": "markdown",
   "metadata": {
    "papermill": {
     "duration": 0.090872,
     "end_time": "2020-11-29T19:03:39.057517",
     "exception": false,
     "start_time": "2020-11-29T19:03:38.966645",
     "status": "completed"
    },
    "tags": []
   },
   "source": [
    "##### Statistical Significane Test"
   ]
  },
  {
   "cell_type": "code",
   "execution_count": 35,
   "metadata": {
    "papermill": {
     "duration": 0.101635,
     "end_time": "2020-11-29T19:03:39.247819",
     "exception": false,
     "start_time": "2020-11-29T19:03:39.146184",
     "status": "completed"
    },
    "tags": []
   },
   "outputs": [],
   "source": [
    "def describe_cont_feature(feature):\n",
    "    print('\\n*** Results for {} ***'.format(feature))\n",
    "    print(X.groupby('y')[feature].describe())\n",
    "    print(ttest(feature))\n",
    "    \n",
    "def ttest(feature):\n",
    "    survived = X[X['y']==1][feature]\n",
    "    not_survived = X[X['y']==0][feature]\n",
    "    tstat, pval = stats.ttest_ind(survived, not_survived, equal_var=False)\n",
    "    print('t-statistic: {:.1f}, p-value: {:.3}'.format(tstat, pval))"
   ]
  },
  {
   "cell_type": "code",
   "execution_count": 36,
   "metadata": {
    "papermill": {
     "duration": 0.473306,
     "end_time": "2020-11-29T19:03:39.808021",
     "exception": false,
     "start_time": "2020-11-29T19:03:39.334715",
     "status": "completed"
    },
    "tags": []
   },
   "outputs": [
    {
     "name": "stdout",
     "output_type": "stream",
     "text": [
      "\n",
      "*** Results for age ***\n",
      "    count       mean        std   min   25%   50%   75%   max\n",
      "y                                                            \n",
      "0  5289.0  41.754018  10.918372  18.0  33.0  39.0  50.0  94.0\n",
      "1  5289.0  41.670070  13.497781  18.0  31.0  38.0  50.0  95.0\n",
      "t-statistic: -0.4, p-value: 0.725\n",
      "None\n",
      "\n",
      "*** Results for job ***\n",
      "    count      mean       std  min  25%  50%  75%   max\n",
      "y                                                      \n",
      "0  5289.0  4.363585  3.222340  0.0  1.0  4.0  7.0  11.0\n",
      "1  5289.0  4.703347  3.174202  0.0  1.0  4.0  8.0  11.0\n",
      "t-statistic: 5.5, p-value: 4.79e-08\n",
      "None\n",
      "\n",
      "*** Results for marital ***\n",
      "    count      mean       std  min  25%  50%  75%  max\n",
      "y                                                     \n",
      "0  5289.0  1.169030  0.597664  0.0  1.0  1.0  2.0  2.0\n",
      "1  5289.0  1.243902  0.647841  0.0  1.0  1.0  2.0  2.0\n",
      "t-statistic: 6.2, p-value: 6.75e-10\n",
      "None\n",
      "\n",
      "*** Results for education ***\n",
      "    count      mean       std  min  25%  50%  75%  max\n",
      "y                                                     \n",
      "0  5289.0  1.253923  0.752452  0.0  1.0  1.0  2.0  3.0\n",
      "1  5289.0  1.360938  0.741310  0.0  1.0  1.0  2.0  3.0\n",
      "t-statistic: 7.4, p-value: 1.86e-13\n",
      "None\n",
      "\n",
      "*** Results for default ***\n",
      "    count      mean       std  min  25%  50%  75%  max\n",
      "y                                                     \n",
      "0  5289.0  0.009265  0.095814  0.0  0.0  0.0  0.0  1.0\n",
      "1  5289.0  0.009832  0.098676  0.0  0.0  0.0  0.0  1.0\n",
      "t-statistic: 0.3, p-value: 0.764\n",
      "None\n",
      "\n",
      "*** Results for housing ***\n",
      "    count      mean       std  min  25%  50%  75%  max\n",
      "y                                                     \n",
      "0  5289.0  0.588013  0.492239  0.0  0.0  1.0  1.0  1.0\n",
      "1  5289.0  0.365854  0.481714  0.0  0.0  0.0  1.0  1.0\n",
      "t-statistic: -23.5, p-value: 1.12e-118\n",
      "None\n",
      "\n",
      "*** Results for loan ***\n",
      "    count      mean       std  min  25%  50%  75%  max\n",
      "y                                                     \n",
      "0  5289.0  0.133296  0.339926  0.0  0.0  0.0  0.0  1.0\n",
      "1  5289.0  0.091511  0.288361  0.0  0.0  0.0  0.0  1.0\n",
      "t-statistic: -6.8, p-value: 9.8e-12\n",
      "None\n",
      "\n",
      "*** Results for contact ***\n",
      "    count      mean       std  min  25%  50%  75%  max\n",
      "y                                                     \n",
      "0  5289.0  0.508036  0.832389  0.0  0.0  0.0  1.0  2.0\n",
      "1  5289.0  0.274154  0.632048  0.0  0.0  0.0  0.0  2.0\n",
      "t-statistic: -16.3, p-value: 8.74e-59\n",
      "None\n",
      "\n",
      "*** Results for month ***\n",
      "    count      mean       std  min  25%  50%  75%   max\n",
      "y                                                      \n",
      "0  5289.0  5.703347  3.214459  0.0  3.0  6.0  8.0  11.0\n",
      "1  5289.0  5.320855  3.417620  0.0  2.0  6.0  8.0  11.0\n",
      "t-statistic: -5.9, p-value: 3.15e-09\n",
      "None\n",
      "\n",
      "*** Results for day ***\n",
      "    count       mean       std  min  25%   50%   75%   max\n",
      "y                                                         \n",
      "0  5289.0  14.249953  7.952625  0.0  7.0  15.0  19.0  30.0\n",
      "1  5289.0  14.158253  8.501875  0.0  7.0  14.0  21.0  30.0\n",
      "t-statistic: -0.6, p-value: 0.567\n",
      "None\n",
      "\n",
      "*** Results for duration ***\n",
      "    count        mean         std  min    25%    50%    75%     max\n",
      "y                                                                  \n",
      "0  5289.0  430.837966  345.802053  5.0  194.0  333.0  556.0  3785.0\n",
      "1  5289.0  537.294574  392.525262  8.0  244.0  426.0  725.0  3881.0\n",
      "t-statistic: 14.8, p-value: 4.62e-49\n",
      "None\n",
      "\n",
      "*** Results for campaign ***\n",
      "    count      mean       std  min  25%  50%  75%   max\n",
      "y                                                      \n",
      "0  5289.0  2.286822  1.998576  1.0  1.0  2.0  3.0  31.0\n",
      "1  5289.0  2.141047  1.921826  1.0  1.0  2.0  3.0  32.0\n",
      "t-statistic: -3.8, p-value: 0.000132\n",
      "None\n",
      "\n",
      "*** Results for pdays ***\n",
      "    count       mean         std  min  25%  50%    75%    max\n",
      "y                                                            \n",
      "0  5289.0  89.520325  128.264311 -1.0 -1.0 -1.0  174.0  838.0\n",
      "1  5289.0  68.702968  118.822266 -1.0 -1.0 -1.0   98.0  854.0\n",
      "t-statistic: -8.7, p-value: 5.46e-18\n",
      "None\n",
      "\n",
      "*** Results for previous ***\n",
      "    count      mean       std  min  25%  50%  75%   max\n",
      "y                                                      \n",
      "0  5289.0  1.294763  2.582580  0.0  0.0  0.0  2.0  40.0\n",
      "1  5289.0  1.170354  2.553272  0.0  0.0  0.0  1.0  58.0\n",
      "t-statistic: -2.5, p-value: 0.0127\n",
      "None\n",
      "\n",
      "*** Results for poutcome ***\n",
      "    count      mean       std  min  25%  50%  75%  max\n",
      "y                                                     \n",
      "0  5289.0  1.934581  1.332658  0.0  0.0  3.0  3.0  3.0\n",
      "1  5289.0  2.348459  1.021959  0.0  2.0  3.0  3.0  3.0\n",
      "t-statistic: 17.9, p-value: 1.02e-70\n",
      "None\n",
      "\n",
      "*** Results for emp.var.rate ***\n"
     ]
    },
    {
     "ename": "KeyError",
     "evalue": "'Column not found: emp.var.rate'",
     "output_type": "error",
     "traceback": [
      "\u001b[0;31m---------------------------------------------------------------------------\u001b[0m",
      "\u001b[0;31mKeyError\u001b[0m                                  Traceback (most recent call last)",
      "\u001b[0;32m/var/folders/fb/8h60y6l97p75gc1bc8g5y9v40000gn/T/ipykernel_30352/1659046194.py\u001b[0m in \u001b[0;36m<module>\u001b[0;34m\u001b[0m\n\u001b[1;32m      3\u001b[0m        \u001b[0;34m'previous'\u001b[0m\u001b[0;34m,\u001b[0m \u001b[0;34m'poutcome'\u001b[0m\u001b[0;34m,\u001b[0m \u001b[0;34m'emp.var.rate'\u001b[0m\u001b[0;34m,\u001b[0m \u001b[0;34m'cons.price.idx'\u001b[0m\u001b[0;34m,\u001b[0m\u001b[0;34m\u001b[0m\u001b[0;34m\u001b[0m\u001b[0m\n\u001b[1;32m      4\u001b[0m        'cons.conf.idx', 'euribor3m', 'nr.employed']:\n\u001b[0;32m----> 5\u001b[0;31m     \u001b[0mdescribe_cont_feature\u001b[0m\u001b[0;34m(\u001b[0m\u001b[0mfeature\u001b[0m\u001b[0;34m)\u001b[0m\u001b[0;34m\u001b[0m\u001b[0;34m\u001b[0m\u001b[0m\n\u001b[0m",
      "\u001b[0;32m/var/folders/fb/8h60y6l97p75gc1bc8g5y9v40000gn/T/ipykernel_30352/3174829865.py\u001b[0m in \u001b[0;36mdescribe_cont_feature\u001b[0;34m(feature)\u001b[0m\n\u001b[1;32m      1\u001b[0m \u001b[0;32mdef\u001b[0m \u001b[0mdescribe_cont_feature\u001b[0m\u001b[0;34m(\u001b[0m\u001b[0mfeature\u001b[0m\u001b[0;34m)\u001b[0m\u001b[0;34m:\u001b[0m\u001b[0;34m\u001b[0m\u001b[0;34m\u001b[0m\u001b[0m\n\u001b[1;32m      2\u001b[0m     \u001b[0mprint\u001b[0m\u001b[0;34m(\u001b[0m\u001b[0;34m'\\n*** Results for {} ***'\u001b[0m\u001b[0;34m.\u001b[0m\u001b[0mformat\u001b[0m\u001b[0;34m(\u001b[0m\u001b[0mfeature\u001b[0m\u001b[0;34m)\u001b[0m\u001b[0;34m)\u001b[0m\u001b[0;34m\u001b[0m\u001b[0;34m\u001b[0m\u001b[0m\n\u001b[0;32m----> 3\u001b[0;31m     \u001b[0mprint\u001b[0m\u001b[0;34m(\u001b[0m\u001b[0mX\u001b[0m\u001b[0;34m.\u001b[0m\u001b[0mgroupby\u001b[0m\u001b[0;34m(\u001b[0m\u001b[0;34m'y'\u001b[0m\u001b[0;34m)\u001b[0m\u001b[0;34m[\u001b[0m\u001b[0mfeature\u001b[0m\u001b[0;34m]\u001b[0m\u001b[0;34m.\u001b[0m\u001b[0mdescribe\u001b[0m\u001b[0;34m(\u001b[0m\u001b[0;34m)\u001b[0m\u001b[0;34m)\u001b[0m\u001b[0;34m\u001b[0m\u001b[0;34m\u001b[0m\u001b[0m\n\u001b[0m\u001b[1;32m      4\u001b[0m     \u001b[0mprint\u001b[0m\u001b[0;34m(\u001b[0m\u001b[0mttest\u001b[0m\u001b[0;34m(\u001b[0m\u001b[0mfeature\u001b[0m\u001b[0;34m)\u001b[0m\u001b[0;34m)\u001b[0m\u001b[0;34m\u001b[0m\u001b[0;34m\u001b[0m\u001b[0m\n\u001b[1;32m      5\u001b[0m \u001b[0;34m\u001b[0m\u001b[0m\n",
      "\u001b[0;32m~/Anaconda/anaconda3/envs/ML/lib/python3.8/site-packages/pandas/core/groupby/generic.py\u001b[0m in \u001b[0;36m__getitem__\u001b[0;34m(self, key)\u001b[0m\n\u001b[1;32m   1536\u001b[0m                 \u001b[0mstacklevel\u001b[0m\u001b[0;34m=\u001b[0m\u001b[0;36m2\u001b[0m\u001b[0;34m,\u001b[0m\u001b[0;34m\u001b[0m\u001b[0;34m\u001b[0m\u001b[0m\n\u001b[1;32m   1537\u001b[0m             )\n\u001b[0;32m-> 1538\u001b[0;31m         \u001b[0;32mreturn\u001b[0m \u001b[0msuper\u001b[0m\u001b[0;34m(\u001b[0m\u001b[0;34m)\u001b[0m\u001b[0;34m.\u001b[0m\u001b[0m__getitem__\u001b[0m\u001b[0;34m(\u001b[0m\u001b[0mkey\u001b[0m\u001b[0;34m)\u001b[0m\u001b[0;34m\u001b[0m\u001b[0;34m\u001b[0m\u001b[0m\n\u001b[0m\u001b[1;32m   1539\u001b[0m \u001b[0;34m\u001b[0m\u001b[0m\n\u001b[1;32m   1540\u001b[0m     \u001b[0;32mdef\u001b[0m \u001b[0m_gotitem\u001b[0m\u001b[0;34m(\u001b[0m\u001b[0mself\u001b[0m\u001b[0;34m,\u001b[0m \u001b[0mkey\u001b[0m\u001b[0;34m,\u001b[0m \u001b[0mndim\u001b[0m\u001b[0;34m:\u001b[0m \u001b[0mint\u001b[0m\u001b[0;34m,\u001b[0m \u001b[0msubset\u001b[0m\u001b[0;34m=\u001b[0m\u001b[0;32mNone\u001b[0m\u001b[0;34m)\u001b[0m\u001b[0;34m:\u001b[0m\u001b[0;34m\u001b[0m\u001b[0;34m\u001b[0m\u001b[0m\n",
      "\u001b[0;32m~/Anaconda/anaconda3/envs/ML/lib/python3.8/site-packages/pandas/core/base.py\u001b[0m in \u001b[0;36m__getitem__\u001b[0;34m(self, key)\u001b[0m\n\u001b[1;32m    230\u001b[0m         \u001b[0;32melse\u001b[0m\u001b[0;34m:\u001b[0m\u001b[0;34m\u001b[0m\u001b[0;34m\u001b[0m\u001b[0m\n\u001b[1;32m    231\u001b[0m             \u001b[0;32mif\u001b[0m \u001b[0mkey\u001b[0m \u001b[0;32mnot\u001b[0m \u001b[0;32min\u001b[0m \u001b[0mself\u001b[0m\u001b[0;34m.\u001b[0m\u001b[0mobj\u001b[0m\u001b[0;34m:\u001b[0m\u001b[0;34m\u001b[0m\u001b[0;34m\u001b[0m\u001b[0m\n\u001b[0;32m--> 232\u001b[0;31m                 \u001b[0;32mraise\u001b[0m \u001b[0mKeyError\u001b[0m\u001b[0;34m(\u001b[0m\u001b[0;34mf\"Column not found: {key}\"\u001b[0m\u001b[0;34m)\u001b[0m\u001b[0;34m\u001b[0m\u001b[0;34m\u001b[0m\u001b[0m\n\u001b[0m\u001b[1;32m    233\u001b[0m             \u001b[0msubset\u001b[0m \u001b[0;34m=\u001b[0m \u001b[0mself\u001b[0m\u001b[0;34m.\u001b[0m\u001b[0mobj\u001b[0m\u001b[0;34m[\u001b[0m\u001b[0mkey\u001b[0m\u001b[0;34m]\u001b[0m\u001b[0;34m\u001b[0m\u001b[0;34m\u001b[0m\u001b[0m\n\u001b[1;32m    234\u001b[0m             \u001b[0mndim\u001b[0m \u001b[0;34m=\u001b[0m \u001b[0msubset\u001b[0m\u001b[0;34m.\u001b[0m\u001b[0mndim\u001b[0m\u001b[0;34m\u001b[0m\u001b[0;34m\u001b[0m\u001b[0m\n",
      "\u001b[0;31mKeyError\u001b[0m: 'Column not found: emp.var.rate'"
     ]
    }
   ],
   "source": [
    "for feature in ['age', 'job', 'marital', 'education', 'default', 'housing', 'loan',\n",
    "       'contact', 'month', 'day', 'duration', 'campaign', 'pdays',\n",
    "       'previous', 'poutcome', 'emp.var.rate', 'cons.price.idx',\n",
    "       'cons.conf.idx', 'euribor3m', 'nr.employed']:\n",
    "    describe_cont_feature(feature)"
   ]
  },
  {
   "cell_type": "markdown",
   "metadata": {
    "papermill": {
     "duration": 0.089311,
     "end_time": "2020-11-29T19:03:39.986154",
     "exception": false,
     "start_time": "2020-11-29T19:03:39.896843",
     "status": "completed"
    },
    "tags": []
   },
   "source": [
    "From the above output, we can see that age, housing and month have p-value greater than 0.5 therefore we can eleminate them as they fail null hypothesis. "
   ]
  },
  {
   "cell_type": "markdown",
   "metadata": {
    "papermill": {
     "duration": 0.091922,
     "end_time": "2020-11-29T19:03:40.177721",
     "exception": false,
     "start_time": "2020-11-29T19:03:40.085799",
     "status": "completed"
    },
    "tags": []
   },
   "source": [
    "## 4. Building Machine Learning Models"
   ]
  },
  {
   "cell_type": "code",
   "execution_count": null,
   "metadata": {
    "papermill": {
     "duration": 0.087555,
     "end_time": "2020-11-29T19:03:40.353599",
     "exception": false,
     "start_time": "2020-11-29T19:03:40.266044",
     "status": "completed"
    },
    "tags": []
   },
   "outputs": [],
   "source": []
  }
 ],
 "metadata": {
  "interpreter": {
   "hash": "8b73166e7f9c0337855f421547f49d92db589da97a9811176a091e8246e76083"
  },
  "kernelspec": {
   "display_name": "Python 3.8.10 64-bit ('ML': conda)",
   "name": "python3"
  },
  "language_info": {
   "codemirror_mode": {
    "name": "ipython",
    "version": 3
   },
   "file_extension": ".py",
   "mimetype": "text/x-python",
   "name": "python",
   "nbconvert_exporter": "python",
   "pygments_lexer": "ipython3",
   "version": "3.8.10"
  },
  "papermill": {
   "duration": 29.724499,
   "end_time": "2020-11-29T19:03:40.552769",
   "environment_variables": {},
   "exception": null,
   "input_path": "__notebook__.ipynb",
   "output_path": "__notebook__.ipynb",
   "parameters": {},
   "start_time": "2020-11-29T19:03:10.828270",
   "version": "2.1.0"
  }
 },
 "nbformat": 4,
 "nbformat_minor": 4
}
