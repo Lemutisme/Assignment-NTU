{
 "cells": [
  {
   "cell_type": "code",
   "execution_count": 4,
   "id": "f699dcc3-b528-44d1-bd6a-48de9fde9f24",
   "metadata": {},
   "outputs": [],
   "source": [
    "import numpy as np\n",
    "import pandas as pd\n",
    "\n",
    "from math import sqrt\n",
    "from sklearn.metrics import confusion_matrix\n",
    "from sklearn.linear_model import LogisticRegression "
   ]
  },
  {
   "cell_type": "code",
   "execution_count": 5,
   "id": "082e0ca8-29f5-4871-b9a7-3ae22c7575e2",
   "metadata": {},
   "outputs": [
    {
     "name": "stdout",
     "output_type": "stream",
     "text": [
      "confusion matrix:\n",
      " [[3336  647]\n",
      " [ 132  407]], \n",
      " ACC:0.8277310924369747, \n",
      " MCC:0.4541993682694779\n"
     ]
    }
   ],
   "source": [
    "train = pd.read_csv('/Users/clause/Desktop/ZD/train.csv',index_col = 0)\n",
    "test = pd.read_csv('/Users/clause/Desktop/ZD/test.csv',index_col = 0)\n",
    "X_train, y_train, X_test, y_test = train.iloc[:,:-1], train.iloc[:,-1], test.iloc[:,:-1], test.iloc[:,-1]\n",
    "lr = LogisticRegression()\n",
    "lr.fit(X_train,y_train)\n",
    "pred = lr.predict(X_test)\n",
    "cm = confusion_matrix(y_test, pred)\n",
    "acc = (cm[0,0]+cm[1,1])/(cm[0,0]+cm[0,1]+cm[1,0]+cm[1,1])\n",
    "mcc = (cm[0,0]*cm[1,1]-cm[0,1]*cm[1,0]) / sqrt((cm[0,0]+cm[0,1])*(cm[0,0]+cm[1,0])*(cm[1,1]+cm[0,1])*(cm[1,1]+cm[1,0]))\n",
    "print(f'confusion matrix:\\n {cm}, \\n ACC:{acc}, \\n MCC:{mcc}')"
   ]
  },
  {
   "cell_type": "code",
   "execution_count": null,
   "id": "afdfa053-9e73-4e28-ac2e-d3c246a5f684",
   "metadata": {},
   "outputs": [],
   "source": []
  }
 ],
 "metadata": {
  "kernelspec": {
   "display_name": "Python 3.8.10 64-bit ('ML': conda)",
   "language": "python",
   "name": "python3810jvsc74a57bd0cff35c45cbab256606d2534f23a0be68c988e5f69921b5c9facd83c319944f6f"
  },
  "language_info": {
   "codemirror_mode": {
    "name": "ipython",
    "version": 3
   },
   "file_extension": ".py",
   "mimetype": "text/x-python",
   "name": "python",
   "nbconvert_exporter": "python",
   "pygments_lexer": "ipython3",
   "version": "3.8.10"
  }
 },
 "nbformat": 4,
 "nbformat_minor": 5
}
